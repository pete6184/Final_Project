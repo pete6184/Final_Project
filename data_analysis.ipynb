{
 "cells": [
  {
   "cell_type": "code",
   "execution_count": 1,
   "metadata": {},
   "outputs": [],
   "source": [
    "# import dependencies\n",
    "import pandas as pd\n",
    "import matplotlib.pyplot as plt\n",
    "import numpy as np\n",
    "from sklearn.model_selection import train_test_split\n",
    "from sklearn.linear_model import LinearRegression\n",
    "from sklearn.preprocessing import LabelEncoder, MinMaxScaler\n",
    "from sklearn.ensemble import RandomForestClassifier\n",
    "from tensorflow.keras.models import Sequential\n",
    "from tensorflow.keras.layers import Dense\n",
    "from tensorflow.keras.utils import to_categorical"
   ]
  },
  {
   "cell_type": "code",
   "execution_count": 2,
   "metadata": {},
   "outputs": [],
   "source": [
    "# set seed value for the notebook so the results are reproducible\n",
    "from numpy.random import seed\n",
    "seed(1)"
   ]
  },
  {
   "cell_type": "code",
   "execution_count": 3,
   "metadata": {},
   "outputs": [],
   "source": [
    "# read the csv file into a pandas DataFrame, drop id column\n",
    "df = pd.read_csv(\"Resources/Data/ThoracicSurgery.csv\")\n",
    "df = df.drop(\"id\", axis=1)"
   ]
  },
  {
   "cell_type": "code",
   "execution_count": 4,
   "metadata": {},
   "outputs": [],
   "source": [
    "# set data for classifier \n",
    "target = df[\"Risk1Yr\"]\n",
    "target_names = [\"T\", \"F\"]\n",
    "data = df.drop(\"Risk1Yr\", axis=1)\n",
    "data = pd.get_dummies(data)\n",
    "feature_names = data.columns"
   ]
  },
  {
   "cell_type": "code",
   "execution_count": 5,
   "metadata": {},
   "outputs": [],
   "source": [
    "# split data into training and testing\n",
    "X_train, X_test, y_train, y_test = train_test_split(\n",
    "    data, target, test_size=0.2, random_state=1)"
   ]
  },
  {
   "cell_type": "code",
   "execution_count": 6,
   "metadata": {},
   "outputs": [
    {
     "data": {
      "text/plain": [
       "0.8617021276595744"
      ]
     },
     "execution_count": 6,
     "metadata": {},
     "output_type": "execute_result"
    }
   ],
   "source": [
    "# create and score random forest classifier\n",
    "rf = RandomForestClassifier(n_estimators=200)\n",
    "rf = rf.fit(X_train, y_train)\n",
    "rf.score(X_test, y_test)"
   ]
  },
  {
   "cell_type": "code",
   "execution_count": 7,
   "metadata": {},
   "outputs": [
    {
     "data": {
      "text/plain": [
       "[(0.18112493347465042, 'PRE5'),\n",
       " (0.17134144561789622, 'PRE4'),\n",
       " (0.159356351562549, 'AGE'),\n",
       " (0.03002138278667311, 'DGN_DGN5'),\n",
       " (0.027762292765678532, 'PRE14_OC11'),\n",
       " (0.0267437945513764, 'DGN_DGN3'),\n",
       " (0.025202968373976894, 'PRE14_OC12'),\n",
       " (0.023257866712346614, 'PRE14_OC14'),\n",
       " (0.02244120352880268, 'DGN_DGN2'),\n",
       " (0.02137556421800881, 'PRE11_F'),\n",
       " (0.02055635109184197, 'PRE11_T'),\n",
       " (0.02047555773552332, 'PRE6_PRZ1'),\n",
       " (0.019714743869018902, 'PRE8_T'),\n",
       " (0.01939140105620525, 'PRE17_T'),\n",
       " (0.019262892924332534, 'PRE8_F'),\n",
       " (0.01775123542926093, 'PRE14_OC13'),\n",
       " (0.016005591991755153, 'PRE17_F'),\n",
       " (0.01587028845481526, 'PRE10_F'),\n",
       " (0.015693540981493087, 'PRE7_T'),\n",
       " (0.01523623043631555, 'PRE9_T'),\n",
       " (0.015185140501332177, 'PRE10_T'),\n",
       " (0.015088366391897005, 'PRE6_PRZ0'),\n",
       " (0.013996162206847072, 'PRE7_F'),\n",
       " (0.013863661637729941, 'PRE30_F'),\n",
       " (0.013675864997954838, 'PRE30_T'),\n",
       " (0.013226252982040509, 'PRE9_F'),\n",
       " (0.013160973805714652, 'DGN_DGN4'),\n",
       " (0.010295785950856968, 'DGN_DGN8'),\n",
       " (0.009734544491668303, 'PRE6_PRZ2'),\n",
       " (0.007025810452780239, 'PRE25_T'),\n",
       " (0.004979847123793602, 'PRE25_F'),\n",
       " (0.0003241907606091642, 'PRE19_F'),\n",
       " (0.00028853637429157656, 'DGN_DGN6'),\n",
       " (0.00023537179867021393, 'PRE19_T'),\n",
       " (0.00016172485059850987, 'PRE32_F'),\n",
       " (0.00011798637402334713, 'PRE32_T'),\n",
       " (5.414173667131391e-05, 'DGN_DGN1')]"
      ]
     },
     "execution_count": 7,
     "metadata": {},
     "output_type": "execute_result"
    }
   ],
   "source": [
    "# sort the features by their importance\n",
    "sorted(zip(rf.feature_importances_, feature_names), reverse=True) "
   ]
  },
  {
   "cell_type": "code",
   "execution_count": 8,
   "metadata": {},
   "outputs": [],
   "source": [
    "# establish X and y\n",
    "X = data\n",
    "y = target"
   ]
  },
  {
   "cell_type": "code",
   "execution_count": 9,
   "metadata": {},
   "outputs": [],
   "source": [
    "# create train test split\n",
    "X_train, X_test, y_train, y_test = train_test_split(X, y, test_size=0.2, random_state=1, stratify=y)"
   ]
  },
  {
   "cell_type": "code",
   "execution_count": 10,
   "metadata": {},
   "outputs": [],
   "source": [
    "# scale data\n",
    "X_scaler = MinMaxScaler().fit(X_train)\n",
    "X_train_scaled = X_scaler.transform(X_train)\n",
    "X_test_scaled = X_scaler.transform(X_test)\n",
    "\n",
    "# label-encode target data set\n",
    "label_encoder = LabelEncoder()\n",
    "label_encoder.fit(y_train)\n",
    "encoded_y_train = label_encoder.transform(y_train)\n",
    "encoded_y_test = label_encoder.transform(y_test)\n",
    "\n",
    "# convert encoded labels to one-hot-encoding\n",
    "y_train_categorical = to_categorical(encoded_y_train)\n",
    "y_test_categorical = to_categorical(encoded_y_test)"
   ]
  },
  {
   "cell_type": "code",
   "execution_count": 11,
   "metadata": {},
   "outputs": [],
   "source": [
    "# create model and add layers\n",
    "model = Sequential()\n",
    "model.add(Dense(units=100, activation='relu', input_dim=37))\n",
    "model.add(Dense(units=100, activation='relu'))\n",
    "model.add(Dense(units=2, activation='softmax'))"
   ]
  },
  {
   "cell_type": "code",
   "execution_count": 12,
   "metadata": {},
   "outputs": [
    {
     "name": "stdout",
     "output_type": "stream",
     "text": [
      "Model: \"sequential\"\n",
      "_________________________________________________________________\n",
      "Layer (type)                 Output Shape              Param #   \n",
      "=================================================================\n",
      "dense (Dense)                (None, 100)               3800      \n",
      "_________________________________________________________________\n",
      "dense_1 (Dense)              (None, 100)               10100     \n",
      "_________________________________________________________________\n",
      "dense_2 (Dense)              (None, 2)                 202       \n",
      "=================================================================\n",
      "Total params: 14,102\n",
      "Trainable params: 14,102\n",
      "Non-trainable params: 0\n",
      "_________________________________________________________________\n"
     ]
    }
   ],
   "source": [
    "# compile the model\n",
    "model.compile(optimizer='adam',\n",
    "              loss='categorical_crossentropy',\n",
    "              metrics=['accuracy'])\n",
    "model.summary()"
   ]
  },
  {
   "cell_type": "code",
   "execution_count": 13,
   "metadata": {},
   "outputs": [
    {
     "name": "stdout",
     "output_type": "stream",
     "text": [
      "Epoch 1/60\n",
      "12/12 - 1s - loss: 0.4898 - accuracy: 0.7819\n",
      "Epoch 2/60\n",
      "12/12 - 0s - loss: 0.4372 - accuracy: 0.8511\n",
      "Epoch 3/60\n",
      "12/12 - 0s - loss: 0.4098 - accuracy: 0.8511\n",
      "Epoch 4/60\n",
      "12/12 - 0s - loss: 0.3881 - accuracy: 0.8511\n",
      "Epoch 5/60\n",
      "12/12 - 0s - loss: 0.3806 - accuracy: 0.8511\n",
      "Epoch 6/60\n",
      "12/12 - 0s - loss: 0.3733 - accuracy: 0.8511\n",
      "Epoch 7/60\n",
      "12/12 - 0s - loss: 0.3648 - accuracy: 0.8511\n",
      "Epoch 8/60\n",
      "12/12 - 0s - loss: 0.3602 - accuracy: 0.8511\n",
      "Epoch 9/60\n",
      "12/12 - 0s - loss: 0.3527 - accuracy: 0.8511\n",
      "Epoch 10/60\n",
      "12/12 - 0s - loss: 0.3465 - accuracy: 0.8590\n",
      "Epoch 11/60\n",
      "12/12 - 0s - loss: 0.3405 - accuracy: 0.8564\n",
      "Epoch 12/60\n",
      "12/12 - 0s - loss: 0.3335 - accuracy: 0.8670\n",
      "Epoch 13/60\n",
      "12/12 - 0s - loss: 0.3310 - accuracy: 0.8644\n",
      "Epoch 14/60\n",
      "12/12 - 0s - loss: 0.3193 - accuracy: 0.8750\n",
      "Epoch 15/60\n",
      "12/12 - 0s - loss: 0.3173 - accuracy: 0.8750\n",
      "Epoch 16/60\n",
      "12/12 - 0s - loss: 0.3032 - accuracy: 0.8883\n",
      "Epoch 17/60\n",
      "12/12 - 0s - loss: 0.3006 - accuracy: 0.8777\n",
      "Epoch 18/60\n",
      "12/12 - 0s - loss: 0.2909 - accuracy: 0.8910\n",
      "Epoch 19/60\n",
      "12/12 - 0s - loss: 0.2868 - accuracy: 0.8883\n",
      "Epoch 20/60\n",
      "12/12 - 0s - loss: 0.2762 - accuracy: 0.9043\n",
      "Epoch 21/60\n",
      "12/12 - 0s - loss: 0.2692 - accuracy: 0.8989\n",
      "Epoch 22/60\n",
      "12/12 - 0s - loss: 0.2617 - accuracy: 0.9043\n",
      "Epoch 23/60\n",
      "12/12 - 0s - loss: 0.2689 - accuracy: 0.8989\n",
      "Epoch 24/60\n",
      "12/12 - 0s - loss: 0.2675 - accuracy: 0.8910\n",
      "Epoch 25/60\n",
      "12/12 - 0s - loss: 0.2562 - accuracy: 0.9202\n",
      "Epoch 26/60\n",
      "12/12 - 0s - loss: 0.2609 - accuracy: 0.9043\n",
      "Epoch 27/60\n",
      "12/12 - 0s - loss: 0.2334 - accuracy: 0.9122\n",
      "Epoch 28/60\n",
      "12/12 - 0s - loss: 0.2402 - accuracy: 0.9069\n",
      "Epoch 29/60\n",
      "12/12 - 0s - loss: 0.2329 - accuracy: 0.9176\n",
      "Epoch 30/60\n",
      "12/12 - 0s - loss: 0.2269 - accuracy: 0.9202\n",
      "Epoch 31/60\n",
      "12/12 - 0s - loss: 0.2259 - accuracy: 0.9122\n",
      "Epoch 32/60\n",
      "12/12 - 0s - loss: 0.2202 - accuracy: 0.9149\n",
      "Epoch 33/60\n",
      "12/12 - 0s - loss: 0.2108 - accuracy: 0.9176\n",
      "Epoch 34/60\n",
      "12/12 - 0s - loss: 0.2136 - accuracy: 0.9202\n",
      "Epoch 35/60\n",
      "12/12 - 0s - loss: 0.2061 - accuracy: 0.9255\n",
      "Epoch 36/60\n",
      "12/12 - 0s - loss: 0.2039 - accuracy: 0.9255\n",
      "Epoch 37/60\n",
      "12/12 - 0s - loss: 0.2006 - accuracy: 0.9202\n",
      "Epoch 38/60\n",
      "12/12 - 0s - loss: 0.1959 - accuracy: 0.9282\n",
      "Epoch 39/60\n",
      "12/12 - 0s - loss: 0.2148 - accuracy: 0.9176\n",
      "Epoch 40/60\n",
      "12/12 - 0s - loss: 0.1938 - accuracy: 0.9309\n",
      "Epoch 41/60\n",
      "12/12 - 0s - loss: 0.1937 - accuracy: 0.9255\n",
      "Epoch 42/60\n",
      "12/12 - 0s - loss: 0.1927 - accuracy: 0.9229\n",
      "Epoch 43/60\n",
      "12/12 - 0s - loss: 0.1825 - accuracy: 0.9335\n",
      "Epoch 44/60\n",
      "12/12 - 0s - loss: 0.1848 - accuracy: 0.9282\n",
      "Epoch 45/60\n",
      "12/12 - 0s - loss: 0.1772 - accuracy: 0.9309\n",
      "Epoch 46/60\n",
      "12/12 - 0s - loss: 0.1764 - accuracy: 0.9335\n",
      "Epoch 47/60\n",
      "12/12 - 0s - loss: 0.1791 - accuracy: 0.9441\n",
      "Epoch 48/60\n",
      "12/12 - 0s - loss: 0.1748 - accuracy: 0.9362\n",
      "Epoch 49/60\n",
      "12/12 - 0s - loss: 0.1752 - accuracy: 0.9388\n",
      "Epoch 50/60\n",
      "12/12 - 0s - loss: 0.1778 - accuracy: 0.9415\n",
      "Epoch 51/60\n",
      "12/12 - 0s - loss: 0.1700 - accuracy: 0.9335\n",
      "Epoch 52/60\n",
      "12/12 - 0s - loss: 0.1778 - accuracy: 0.9309\n",
      "Epoch 53/60\n",
      "12/12 - 0s - loss: 0.1732 - accuracy: 0.9388\n",
      "Epoch 54/60\n",
      "12/12 - 0s - loss: 0.1706 - accuracy: 0.9388\n",
      "Epoch 55/60\n",
      "12/12 - 0s - loss: 0.1638 - accuracy: 0.9415\n",
      "Epoch 56/60\n",
      "12/12 - 0s - loss: 0.1724 - accuracy: 0.9388\n",
      "Epoch 57/60\n",
      "12/12 - 0s - loss: 0.1789 - accuracy: 0.9335\n",
      "Epoch 58/60\n",
      "12/12 - 0s - loss: 0.1904 - accuracy: 0.9309\n",
      "Epoch 59/60\n",
      "12/12 - 0s - loss: 0.1666 - accuracy: 0.9415\n",
      "Epoch 60/60\n",
      "12/12 - 0s - loss: 0.1625 - accuracy: 0.9441\n"
     ]
    },
    {
     "data": {
      "text/plain": [
       "<tensorflow.python.keras.callbacks.History at 0x14a9a940820>"
      ]
     },
     "execution_count": 13,
     "metadata": {},
     "output_type": "execute_result"
    }
   ],
   "source": [
    "# fit (train) the model\n",
    "model.fit(\n",
    "    X_train_scaled,\n",
    "    y_train_categorical,\n",
    "    epochs=60,\n",
    "    shuffle=True,\n",
    "    verbose=2\n",
    ")"
   ]
  },
  {
   "cell_type": "code",
   "execution_count": 14,
   "metadata": {},
   "outputs": [
    {
     "name": "stdout",
     "output_type": "stream",
     "text": [
      "3/3 - 0s - loss: 0.7031 - accuracy: 0.8404\n",
      "Normal Neural Network - Loss: 0.7030636668205261, Accuracy: 0.8404255509376526\n"
     ]
    }
   ],
   "source": [
    "# evaluate the model using the testing data\n",
    "model_loss, model_accuracy = model.evaluate(\n",
    "    X_test_scaled, y_test_categorical, verbose=2)\n",
    "print(\n",
    "    f\"Normal Neural Network - Loss: {model_loss}, Accuracy: {model_accuracy}\")"
   ]
  },
  {
   "cell_type": "code",
   "execution_count": 15,
   "metadata": {},
   "outputs": [
    {
     "name": "stdout",
     "output_type": "stream",
     "text": [
      "Predicted classes: ['F' 'F' 'F' 'F' 'F']\n",
      "Actual Labels: ['F', 'F', 'F', 'F', 'F']\n"
     ]
    },
    {
     "name": "stderr",
     "output_type": "stream",
     "text": [
      "C:\\Users\\petej\\Anaconda3\\lib\\site-packages\\tensorflow\\python\\keras\\engine\\sequential.py:455: UserWarning: `model.predict_classes()` is deprecated and will be removed after 2021-01-01. Please use instead:* `np.argmax(model.predict(x), axis=-1)`,   if your model does multi-class classification   (e.g. if it uses a `softmax` last-layer activation).* `(model.predict(x) > 0.5).astype(\"int32\")`,   if your model does binary classification   (e.g. if it uses a `sigmoid` last-layer activation).\n",
      "  warnings.warn('`model.predict_classes()` is deprecated and '\n"
     ]
    }
   ],
   "source": [
    "#  make predictions\n",
    "encoded_predictions = model.predict_classes(X_test_scaled[:5])\n",
    "prediction_labels = label_encoder.inverse_transform(encoded_predictions)\n",
    "print(f\"Predicted classes: {prediction_labels}\")\n",
    "print(f\"Actual Labels: {list(y_test[:5])}\")"
   ]
  },
  {
   "cell_type": "code",
   "execution_count": 16,
   "metadata": {},
   "outputs": [],
   "source": [
    "# create the SVC Model\n",
    "from sklearn.svm import SVC \n",
    "\n",
    "model = SVC(kernel='linear')"
   ]
  },
  {
   "cell_type": "code",
   "execution_count": 17,
   "metadata": {},
   "outputs": [
    {
     "data": {
      "text/plain": [
       "SVC(kernel='linear')"
      ]
     },
     "execution_count": 17,
     "metadata": {},
     "output_type": "execute_result"
    }
   ],
   "source": [
    "SVC(kernel='linear')"
   ]
  },
  {
   "cell_type": "code",
   "execution_count": 18,
   "metadata": {},
   "outputs": [],
   "source": [
    "# create the GridSearch estimator along with a parameter object containing the values to adjust\n",
    "from sklearn.model_selection import GridSearchCV\n",
    "\n",
    "param_grid = {'C': [1, 5, 10, 50],\n",
    "              'gamma': [0.0001, 0.0005, 0.001, 0.005]}\n",
    "grid = GridSearchCV(model, param_grid, verbose=3)"
   ]
  },
  {
   "cell_type": "code",
   "execution_count": 19,
   "metadata": {},
   "outputs": [
    {
     "name": "stdout",
     "output_type": "stream",
     "text": [
      "Fitting 5 folds for each of 16 candidates, totalling 80 fits\n",
      "[CV 1/5] END ..............................C=1, gamma=0.0001; total time=   0.0s\n",
      "[CV 2/5] END ..............................C=1, gamma=0.0001; total time=   0.0s\n",
      "[CV 3/5] END ..............................C=1, gamma=0.0001; total time=   0.0s\n",
      "[CV 4/5] END ..............................C=1, gamma=0.0001; total time=   0.0s\n",
      "[CV 5/5] END ..............................C=1, gamma=0.0001; total time=   0.0s\n",
      "[CV 1/5] END ..............................C=1, gamma=0.0005; total time=   0.0s\n",
      "[CV 2/5] END ..............................C=1, gamma=0.0005; total time=   0.0s\n",
      "[CV 3/5] END ..............................C=1, gamma=0.0005; total time=   0.0s\n",
      "[CV 4/5] END ..............................C=1, gamma=0.0005; total time=   0.0s\n",
      "[CV 5/5] END ..............................C=1, gamma=0.0005; total time=   0.0s\n",
      "[CV 1/5] END ...............................C=1, gamma=0.001; total time=   0.0s\n",
      "[CV 2/5] END ...............................C=1, gamma=0.001; total time=   0.0s\n",
      "[CV 3/5] END ...............................C=1, gamma=0.001; total time=   0.0s\n",
      "[CV 4/5] END ...............................C=1, gamma=0.001; total time=   0.0s\n",
      "[CV 5/5] END ...............................C=1, gamma=0.001; total time=   0.0s\n",
      "[CV 1/5] END ...............................C=1, gamma=0.005; total time=   0.0s\n",
      "[CV 2/5] END ...............................C=1, gamma=0.005; total time=   0.0s\n",
      "[CV 3/5] END ...............................C=1, gamma=0.005; total time=   0.0s\n",
      "[CV 4/5] END ...............................C=1, gamma=0.005; total time=   0.0s\n",
      "[CV 5/5] END ...............................C=1, gamma=0.005; total time=   0.0s\n",
      "[CV 1/5] END ..............................C=5, gamma=0.0001; total time=   0.0s\n",
      "[CV 2/5] END ..............................C=5, gamma=0.0001; total time=   0.0s\n",
      "[CV 3/5] END ..............................C=5, gamma=0.0001; total time=   0.0s\n",
      "[CV 4/5] END ..............................C=5, gamma=0.0001; total time=   0.0s\n",
      "[CV 5/5] END ..............................C=5, gamma=0.0001; total time=   0.0s\n",
      "[CV 1/5] END ..............................C=5, gamma=0.0005; total time=   0.0s\n",
      "[CV 2/5] END ..............................C=5, gamma=0.0005; total time=   0.0s\n",
      "[CV 3/5] END ..............................C=5, gamma=0.0005; total time=   0.0s\n",
      "[CV 4/5] END ..............................C=5, gamma=0.0005; total time=   0.0s\n",
      "[CV 5/5] END ..............................C=5, gamma=0.0005; total time=   0.0s\n",
      "[CV 1/5] END ...............................C=5, gamma=0.001; total time=   0.0s\n",
      "[CV 2/5] END ...............................C=5, gamma=0.001; total time=   0.0s\n",
      "[CV 3/5] END ...............................C=5, gamma=0.001; total time=   0.0s\n",
      "[CV 4/5] END ...............................C=5, gamma=0.001; total time=   0.0s\n",
      "[CV 5/5] END ...............................C=5, gamma=0.001; total time=   0.0s\n",
      "[CV 1/5] END ...............................C=5, gamma=0.005; total time=   0.0s\n",
      "[CV 2/5] END ...............................C=5, gamma=0.005; total time=   0.0s\n",
      "[CV 3/5] END ...............................C=5, gamma=0.005; total time=   0.0s\n",
      "[CV 4/5] END ...............................C=5, gamma=0.005; total time=   0.0s\n",
      "[CV 5/5] END ...............................C=5, gamma=0.005; total time=   0.0s\n",
      "[CV 1/5] END .............................C=10, gamma=0.0001; total time=   0.0s\n",
      "[CV 2/5] END .............................C=10, gamma=0.0001; total time=   0.1s\n",
      "[CV 3/5] END .............................C=10, gamma=0.0001; total time=   0.1s\n",
      "[CV 4/5] END .............................C=10, gamma=0.0001; total time=   0.0s\n",
      "[CV 5/5] END .............................C=10, gamma=0.0001; total time=   0.0s\n",
      "[CV 1/5] END .............................C=10, gamma=0.0005; total time=   0.0s\n",
      "[CV 2/5] END .............................C=10, gamma=0.0005; total time=   0.1s\n",
      "[CV 3/5] END .............................C=10, gamma=0.0005; total time=   0.1s\n",
      "[CV 4/5] END .............................C=10, gamma=0.0005; total time=   0.0s\n",
      "[CV 5/5] END .............................C=10, gamma=0.0005; total time=   0.1s\n",
      "[CV 1/5] END ..............................C=10, gamma=0.001; total time=   0.0s\n",
      "[CV 2/5] END ..............................C=10, gamma=0.001; total time=   0.1s\n",
      "[CV 3/5] END ..............................C=10, gamma=0.001; total time=   0.1s\n",
      "[CV 4/5] END ..............................C=10, gamma=0.001; total time=   0.0s\n",
      "[CV 5/5] END ..............................C=10, gamma=0.001; total time=   0.1s\n",
      "[CV 1/5] END ..............................C=10, gamma=0.005; total time=   0.0s\n",
      "[CV 2/5] END ..............................C=10, gamma=0.005; total time=   0.1s\n",
      "[CV 3/5] END ..............................C=10, gamma=0.005; total time=   0.1s\n",
      "[CV 4/5] END ..............................C=10, gamma=0.005; total time=   0.0s\n",
      "[CV 5/5] END ..............................C=10, gamma=0.005; total time=   0.0s\n",
      "[CV 1/5] END .............................C=50, gamma=0.0001; total time=   0.4s\n",
      "[CV 2/5] END .............................C=50, gamma=0.0001; total time=   0.7s\n",
      "[CV 3/5] END .............................C=50, gamma=0.0001; total time=   0.7s\n",
      "[CV 4/5] END .............................C=50, gamma=0.0001; total time=   0.0s\n",
      "[CV 5/5] END .............................C=50, gamma=0.0001; total time=   0.5s\n",
      "[CV 1/5] END .............................C=50, gamma=0.0005; total time=   0.4s\n",
      "[CV 2/5] END .............................C=50, gamma=0.0005; total time=   0.7s\n",
      "[CV 3/5] END .............................C=50, gamma=0.0005; total time=   0.7s\n",
      "[CV 4/5] END .............................C=50, gamma=0.0005; total time=   0.0s\n",
      "[CV 5/5] END .............................C=50, gamma=0.0005; total time=   0.5s\n",
      "[CV 1/5] END ..............................C=50, gamma=0.001; total time=   0.3s\n",
      "[CV 2/5] END ..............................C=50, gamma=0.001; total time=   0.7s\n",
      "[CV 3/5] END ..............................C=50, gamma=0.001; total time=   0.7s\n",
      "[CV 4/5] END ..............................C=50, gamma=0.001; total time=   0.0s\n",
      "[CV 5/5] END ..............................C=50, gamma=0.001; total time=   0.5s\n",
      "[CV 1/5] END ..............................C=50, gamma=0.005; total time=   0.3s\n",
      "[CV 2/5] END ..............................C=50, gamma=0.005; total time=   0.7s\n",
      "[CV 3/5] END ..............................C=50, gamma=0.005; total time=   0.7s\n",
      "[CV 4/5] END ..............................C=50, gamma=0.005; total time=   0.0s\n",
      "[CV 5/5] END ..............................C=50, gamma=0.005; total time=   0.5s\n"
     ]
    },
    {
     "data": {
      "text/plain": [
       "GridSearchCV(estimator=SVC(kernel='linear'),\n",
       "             param_grid={'C': [1, 5, 10, 50],\n",
       "                         'gamma': [0.0001, 0.0005, 0.001, 0.005]},\n",
       "             verbose=3)"
      ]
     },
     "execution_count": 19,
     "metadata": {},
     "output_type": "execute_result"
    }
   ],
   "source": [
    "# train the model with GridSearch\n",
    "grid.fit(X_train_scaled, y_train)"
   ]
  },
  {
   "cell_type": "code",
   "execution_count": 20,
   "metadata": {},
   "outputs": [
    {
     "name": "stdout",
     "output_type": "stream",
     "text": [
      "{'C': 5, 'gamma': 0.0001}\n",
      "0.8510877192982456\n"
     ]
    }
   ],
   "source": [
    " # fit the model using the grid search estimator \n",
    "GridSearchCV(estimator=SVC(kernel='linear'),\n",
    "             param_grid={'C': [1, 5, 10], 'gamma': [0.0001, 0.001, 0.01]},\n",
    "             verbose=2)\n",
    " # list the best parameters, score for this dataset\n",
    "print(grid.best_params_)\n",
    "print(grid.best_score_)"
   ]
  },
  {
   "cell_type": "code",
   "execution_count": 21,
   "metadata": {},
   "outputs": [
    {
     "name": "stdout",
     "output_type": "stream",
     "text": [
      "['F' 'F' 'T' 'F' 'F' 'F' 'T' 'F' 'F' 'F' 'F' 'F' 'F' 'F' 'F' 'F' 'F' 'F'\n",
      " 'F' 'F' 'F' 'F' 'F' 'F' 'F' 'T' 'F' 'F' 'F' 'F' 'F' 'F' 'F' 'F' 'F' 'F'\n",
      " 'F' 'F' 'F' 'F' 'F' 'F' 'F' 'F' 'F' 'F' 'F' 'F' 'F' 'F' 'F' 'F' 'F' 'F'\n",
      " 'F' 'F' 'F' 'F' 'F' 'F' 'F' 'F' 'F' 'T' 'T' 'F' 'F' 'F' 'F' 'F' 'F' 'F'\n",
      " 'F' 'F' 'F' 'F' 'F' 'F' 'F' 'F' 'F' 'F' 'F' 'F' 'F' 'T' 'F' 'F' 'F' 'F'\n",
      " 'F' 'F' 'F' 'F']\n"
     ]
    }
   ],
   "source": [
    "# make predictions with hypertuned model\n",
    "predictions = grid.predict(X_test_scaled)\n",
    "print(predictions)"
   ]
  },
  {
   "cell_type": "code",
   "execution_count": 22,
   "metadata": {},
   "outputs": [
    {
     "name": "stdout",
     "output_type": "stream",
     "text": [
      "Test Acc: 0.830\n"
     ]
    }
   ],
   "source": [
    "# list the best score\n",
    "print('Test Acc: %.3f' % grid.score(X_test_scaled, y_test))"
   ]
  },
  {
   "cell_type": "code",
   "execution_count": 23,
   "metadata": {},
   "outputs": [
    {
     "data": {
      "text/plain": [
       "0.7997973657548125"
      ]
     },
     "execution_count": 23,
     "metadata": {},
     "output_type": "execute_result"
    }
   ],
   "source": [
    "# f1 score\n",
    "from sklearn.metrics import classification_report\n",
    "from sklearn import metrics\n",
    "from sklearn.metrics import f1_score\n",
    "metrics.f1_score(y_test, predictions, average='weighted', labels=np.unique(predictions))"
   ]
  },
  {
   "cell_type": "code",
   "execution_count": 24,
   "metadata": {},
   "outputs": [
    {
     "name": "stdout",
     "output_type": "stream",
     "text": [
      "              precision    recall  f1-score   support\n",
      "\n",
      "           T       0.86      0.95      0.90        80\n",
      "           F       0.33      0.14      0.20        14\n",
      "\n",
      "    accuracy                           0.83        94\n",
      "   macro avg       0.60      0.55      0.55        94\n",
      "weighted avg       0.78      0.83      0.80        94\n",
      "\n"
     ]
    }
   ],
   "source": [
    "# calculate classification report\n",
    "print(classification_report(y_test, predictions,\n",
    "                            target_names=[\"T\", \"F\"]))"
   ]
  },
  {
   "cell_type": "markdown",
   "metadata": {},
   "source": [
    "# Data Pre-Processing\n",
    "### Data Cleaning"
   ]
  },
  {
   "cell_type": "code",
   "execution_count": 25,
   "metadata": {},
   "outputs": [
    {
     "data": {
      "text/html": [
       "<div>\n",
       "<style scoped>\n",
       "    .dataframe tbody tr th:only-of-type {\n",
       "        vertical-align: middle;\n",
       "    }\n",
       "\n",
       "    .dataframe tbody tr th {\n",
       "        vertical-align: top;\n",
       "    }\n",
       "\n",
       "    .dataframe thead th {\n",
       "        text-align: right;\n",
       "    }\n",
       "</style>\n",
       "<table border=\"1\" class=\"dataframe\">\n",
       "  <thead>\n",
       "    <tr style=\"text-align: right;\">\n",
       "      <th></th>\n",
       "      <th>DGN</th>\n",
       "      <th>PRE4</th>\n",
       "      <th>PRE5</th>\n",
       "      <th>PRE6</th>\n",
       "      <th>PRE7</th>\n",
       "      <th>PRE8</th>\n",
       "      <th>PRE9</th>\n",
       "      <th>PRE10</th>\n",
       "      <th>PRE11</th>\n",
       "      <th>PRE14</th>\n",
       "      <th>PRE17</th>\n",
       "      <th>PRE19</th>\n",
       "      <th>PRE25</th>\n",
       "      <th>PRE30</th>\n",
       "      <th>PRE32</th>\n",
       "      <th>AGE</th>\n",
       "      <th>Risk1Yr</th>\n",
       "    </tr>\n",
       "  </thead>\n",
       "  <tbody>\n",
       "    <tr>\n",
       "      <th>0</th>\n",
       "      <td>DGN2</td>\n",
       "      <td>2.88</td>\n",
       "      <td>2.16</td>\n",
       "      <td>PRZ1</td>\n",
       "      <td>F</td>\n",
       "      <td>F</td>\n",
       "      <td>F</td>\n",
       "      <td>T</td>\n",
       "      <td>T</td>\n",
       "      <td>OC14</td>\n",
       "      <td>F</td>\n",
       "      <td>F</td>\n",
       "      <td>F</td>\n",
       "      <td>T</td>\n",
       "      <td>F</td>\n",
       "      <td>60</td>\n",
       "      <td>F</td>\n",
       "    </tr>\n",
       "    <tr>\n",
       "      <th>1</th>\n",
       "      <td>DGN3</td>\n",
       "      <td>3.40</td>\n",
       "      <td>1.88</td>\n",
       "      <td>PRZ0</td>\n",
       "      <td>F</td>\n",
       "      <td>F</td>\n",
       "      <td>F</td>\n",
       "      <td>F</td>\n",
       "      <td>F</td>\n",
       "      <td>OC12</td>\n",
       "      <td>F</td>\n",
       "      <td>F</td>\n",
       "      <td>F</td>\n",
       "      <td>T</td>\n",
       "      <td>F</td>\n",
       "      <td>51</td>\n",
       "      <td>F</td>\n",
       "    </tr>\n",
       "    <tr>\n",
       "      <th>2</th>\n",
       "      <td>DGN3</td>\n",
       "      <td>2.76</td>\n",
       "      <td>2.08</td>\n",
       "      <td>PRZ1</td>\n",
       "      <td>F</td>\n",
       "      <td>F</td>\n",
       "      <td>F</td>\n",
       "      <td>T</td>\n",
       "      <td>F</td>\n",
       "      <td>OC11</td>\n",
       "      <td>F</td>\n",
       "      <td>F</td>\n",
       "      <td>F</td>\n",
       "      <td>T</td>\n",
       "      <td>F</td>\n",
       "      <td>59</td>\n",
       "      <td>F</td>\n",
       "    </tr>\n",
       "    <tr>\n",
       "      <th>3</th>\n",
       "      <td>DGN3</td>\n",
       "      <td>3.68</td>\n",
       "      <td>3.04</td>\n",
       "      <td>PRZ0</td>\n",
       "      <td>F</td>\n",
       "      <td>F</td>\n",
       "      <td>F</td>\n",
       "      <td>F</td>\n",
       "      <td>F</td>\n",
       "      <td>OC11</td>\n",
       "      <td>F</td>\n",
       "      <td>F</td>\n",
       "      <td>F</td>\n",
       "      <td>F</td>\n",
       "      <td>F</td>\n",
       "      <td>54</td>\n",
       "      <td>F</td>\n",
       "    </tr>\n",
       "    <tr>\n",
       "      <th>4</th>\n",
       "      <td>DGN3</td>\n",
       "      <td>2.44</td>\n",
       "      <td>0.96</td>\n",
       "      <td>PRZ2</td>\n",
       "      <td>F</td>\n",
       "      <td>T</td>\n",
       "      <td>F</td>\n",
       "      <td>T</td>\n",
       "      <td>T</td>\n",
       "      <td>OC11</td>\n",
       "      <td>F</td>\n",
       "      <td>F</td>\n",
       "      <td>F</td>\n",
       "      <td>T</td>\n",
       "      <td>F</td>\n",
       "      <td>73</td>\n",
       "      <td>T</td>\n",
       "    </tr>\n",
       "  </tbody>\n",
       "</table>\n",
       "</div>"
      ],
      "text/plain": [
       "    DGN  PRE4  PRE5  PRE6 PRE7 PRE8 PRE9 PRE10 PRE11 PRE14 PRE17 PRE19 PRE25  \\\n",
       "0  DGN2  2.88  2.16  PRZ1    F    F    F     T     T  OC14     F     F     F   \n",
       "1  DGN3  3.40  1.88  PRZ0    F    F    F     F     F  OC12     F     F     F   \n",
       "2  DGN3  2.76  2.08  PRZ1    F    F    F     T     F  OC11     F     F     F   \n",
       "3  DGN3  3.68  3.04  PRZ0    F    F    F     F     F  OC11     F     F     F   \n",
       "4  DGN3  2.44  0.96  PRZ2    F    T    F     T     T  OC11     F     F     F   \n",
       "\n",
       "  PRE30 PRE32  AGE Risk1Yr  \n",
       "0     T     F   60       F  \n",
       "1     T     F   51       F  \n",
       "2     T     F   59       F  \n",
       "3     F     F   54       F  \n",
       "4     T     F   73       T  "
      ]
     },
     "execution_count": 25,
     "metadata": {},
     "output_type": "execute_result"
    }
   ],
   "source": [
    "new_df = df[['DGN', 'PRE4', 'PRE5', 'PRE6', 'PRE7', 'PRE8', 'PRE9', 'PRE10', 'PRE11', 'PRE14', 'PRE17', 'PRE19', 'PRE25', 'PRE30', 'PRE32', 'AGE', 'Risk1Yr']]\n",
    "new_df.head()"
   ]
  },
  {
   "cell_type": "code",
   "execution_count": 26,
   "metadata": {},
   "outputs": [
    {
     "data": {
      "text/html": [
       "<div>\n",
       "<style scoped>\n",
       "    .dataframe tbody tr th:only-of-type {\n",
       "        vertical-align: middle;\n",
       "    }\n",
       "\n",
       "    .dataframe tbody tr th {\n",
       "        vertical-align: top;\n",
       "    }\n",
       "\n",
       "    .dataframe thead th {\n",
       "        text-align: right;\n",
       "    }\n",
       "</style>\n",
       "<table border=\"1\" class=\"dataframe\">\n",
       "  <thead>\n",
       "    <tr style=\"text-align: right;\">\n",
       "      <th></th>\n",
       "      <th>DGN</th>\n",
       "      <th>PRE4</th>\n",
       "      <th>PRE5</th>\n",
       "      <th>PRE6</th>\n",
       "      <th>PRE7</th>\n",
       "      <th>PRE8</th>\n",
       "      <th>PRE9</th>\n",
       "      <th>PRE10</th>\n",
       "      <th>PRE11</th>\n",
       "      <th>PRE14</th>\n",
       "      <th>PRE17</th>\n",
       "      <th>PRE19</th>\n",
       "      <th>PRE25</th>\n",
       "      <th>PRE30</th>\n",
       "      <th>PRE32</th>\n",
       "      <th>AGE</th>\n",
       "      <th>Risk1Yr</th>\n",
       "    </tr>\n",
       "  </thead>\n",
       "  <tbody>\n",
       "    <tr>\n",
       "      <th>0</th>\n",
       "      <td>DGN2</td>\n",
       "      <td>2.88</td>\n",
       "      <td>2.16</td>\n",
       "      <td>PRZ1</td>\n",
       "      <td>F</td>\n",
       "      <td>F</td>\n",
       "      <td>F</td>\n",
       "      <td>T</td>\n",
       "      <td>T</td>\n",
       "      <td>OC14</td>\n",
       "      <td>F</td>\n",
       "      <td>F</td>\n",
       "      <td>F</td>\n",
       "      <td>T</td>\n",
       "      <td>F</td>\n",
       "      <td>60</td>\n",
       "      <td>F</td>\n",
       "    </tr>\n",
       "    <tr>\n",
       "      <th>1</th>\n",
       "      <td>DGN3</td>\n",
       "      <td>3.40</td>\n",
       "      <td>1.88</td>\n",
       "      <td>PRZ0</td>\n",
       "      <td>F</td>\n",
       "      <td>F</td>\n",
       "      <td>F</td>\n",
       "      <td>F</td>\n",
       "      <td>F</td>\n",
       "      <td>OC12</td>\n",
       "      <td>F</td>\n",
       "      <td>F</td>\n",
       "      <td>F</td>\n",
       "      <td>T</td>\n",
       "      <td>F</td>\n",
       "      <td>51</td>\n",
       "      <td>F</td>\n",
       "    </tr>\n",
       "    <tr>\n",
       "      <th>2</th>\n",
       "      <td>DGN3</td>\n",
       "      <td>2.76</td>\n",
       "      <td>2.08</td>\n",
       "      <td>PRZ1</td>\n",
       "      <td>F</td>\n",
       "      <td>F</td>\n",
       "      <td>F</td>\n",
       "      <td>T</td>\n",
       "      <td>F</td>\n",
       "      <td>OC11</td>\n",
       "      <td>F</td>\n",
       "      <td>F</td>\n",
       "      <td>F</td>\n",
       "      <td>T</td>\n",
       "      <td>F</td>\n",
       "      <td>59</td>\n",
       "      <td>F</td>\n",
       "    </tr>\n",
       "    <tr>\n",
       "      <th>3</th>\n",
       "      <td>DGN3</td>\n",
       "      <td>3.68</td>\n",
       "      <td>3.04</td>\n",
       "      <td>PRZ0</td>\n",
       "      <td>F</td>\n",
       "      <td>F</td>\n",
       "      <td>F</td>\n",
       "      <td>F</td>\n",
       "      <td>F</td>\n",
       "      <td>OC11</td>\n",
       "      <td>F</td>\n",
       "      <td>F</td>\n",
       "      <td>F</td>\n",
       "      <td>F</td>\n",
       "      <td>F</td>\n",
       "      <td>54</td>\n",
       "      <td>F</td>\n",
       "    </tr>\n",
       "    <tr>\n",
       "      <th>5</th>\n",
       "      <td>DGN3</td>\n",
       "      <td>2.48</td>\n",
       "      <td>1.88</td>\n",
       "      <td>PRZ1</td>\n",
       "      <td>F</td>\n",
       "      <td>F</td>\n",
       "      <td>F</td>\n",
       "      <td>T</td>\n",
       "      <td>F</td>\n",
       "      <td>OC11</td>\n",
       "      <td>F</td>\n",
       "      <td>F</td>\n",
       "      <td>F</td>\n",
       "      <td>F</td>\n",
       "      <td>F</td>\n",
       "      <td>51</td>\n",
       "      <td>F</td>\n",
       "    </tr>\n",
       "    <tr>\n",
       "      <th>...</th>\n",
       "      <td>...</td>\n",
       "      <td>...</td>\n",
       "      <td>...</td>\n",
       "      <td>...</td>\n",
       "      <td>...</td>\n",
       "      <td>...</td>\n",
       "      <td>...</td>\n",
       "      <td>...</td>\n",
       "      <td>...</td>\n",
       "      <td>...</td>\n",
       "      <td>...</td>\n",
       "      <td>...</td>\n",
       "      <td>...</td>\n",
       "      <td>...</td>\n",
       "      <td>...</td>\n",
       "      <td>...</td>\n",
       "      <td>...</td>\n",
       "    </tr>\n",
       "    <tr>\n",
       "      <th>465</th>\n",
       "      <td>DGN2</td>\n",
       "      <td>3.88</td>\n",
       "      <td>2.12</td>\n",
       "      <td>PRZ1</td>\n",
       "      <td>F</td>\n",
       "      <td>F</td>\n",
       "      <td>F</td>\n",
       "      <td>T</td>\n",
       "      <td>F</td>\n",
       "      <td>OC13</td>\n",
       "      <td>F</td>\n",
       "      <td>F</td>\n",
       "      <td>F</td>\n",
       "      <td>T</td>\n",
       "      <td>F</td>\n",
       "      <td>63</td>\n",
       "      <td>F</td>\n",
       "    </tr>\n",
       "    <tr>\n",
       "      <th>466</th>\n",
       "      <td>DGN3</td>\n",
       "      <td>3.76</td>\n",
       "      <td>3.12</td>\n",
       "      <td>PRZ0</td>\n",
       "      <td>F</td>\n",
       "      <td>F</td>\n",
       "      <td>F</td>\n",
       "      <td>F</td>\n",
       "      <td>F</td>\n",
       "      <td>OC11</td>\n",
       "      <td>F</td>\n",
       "      <td>F</td>\n",
       "      <td>F</td>\n",
       "      <td>T</td>\n",
       "      <td>F</td>\n",
       "      <td>61</td>\n",
       "      <td>F</td>\n",
       "    </tr>\n",
       "    <tr>\n",
       "      <th>467</th>\n",
       "      <td>DGN3</td>\n",
       "      <td>3.04</td>\n",
       "      <td>2.08</td>\n",
       "      <td>PRZ1</td>\n",
       "      <td>F</td>\n",
       "      <td>F</td>\n",
       "      <td>F</td>\n",
       "      <td>T</td>\n",
       "      <td>F</td>\n",
       "      <td>OC13</td>\n",
       "      <td>F</td>\n",
       "      <td>F</td>\n",
       "      <td>F</td>\n",
       "      <td>F</td>\n",
       "      <td>F</td>\n",
       "      <td>52</td>\n",
       "      <td>F</td>\n",
       "    </tr>\n",
       "    <tr>\n",
       "      <th>468</th>\n",
       "      <td>DGN3</td>\n",
       "      <td>1.96</td>\n",
       "      <td>1.68</td>\n",
       "      <td>PRZ1</td>\n",
       "      <td>F</td>\n",
       "      <td>F</td>\n",
       "      <td>F</td>\n",
       "      <td>T</td>\n",
       "      <td>T</td>\n",
       "      <td>OC12</td>\n",
       "      <td>F</td>\n",
       "      <td>F</td>\n",
       "      <td>F</td>\n",
       "      <td>T</td>\n",
       "      <td>F</td>\n",
       "      <td>79</td>\n",
       "      <td>F</td>\n",
       "    </tr>\n",
       "    <tr>\n",
       "      <th>469</th>\n",
       "      <td>DGN3</td>\n",
       "      <td>4.72</td>\n",
       "      <td>3.56</td>\n",
       "      <td>PRZ0</td>\n",
       "      <td>F</td>\n",
       "      <td>F</td>\n",
       "      <td>F</td>\n",
       "      <td>F</td>\n",
       "      <td>F</td>\n",
       "      <td>OC12</td>\n",
       "      <td>F</td>\n",
       "      <td>F</td>\n",
       "      <td>F</td>\n",
       "      <td>T</td>\n",
       "      <td>F</td>\n",
       "      <td>51</td>\n",
       "      <td>F</td>\n",
       "    </tr>\n",
       "  </tbody>\n",
       "</table>\n",
       "<p>400 rows × 17 columns</p>\n",
       "</div>"
      ],
      "text/plain": [
       "      DGN  PRE4  PRE5  PRE6 PRE7 PRE8 PRE9 PRE10 PRE11 PRE14 PRE17 PRE19  \\\n",
       "0    DGN2  2.88  2.16  PRZ1    F    F    F     T     T  OC14     F     F   \n",
       "1    DGN3  3.40  1.88  PRZ0    F    F    F     F     F  OC12     F     F   \n",
       "2    DGN3  2.76  2.08  PRZ1    F    F    F     T     F  OC11     F     F   \n",
       "3    DGN3  3.68  3.04  PRZ0    F    F    F     F     F  OC11     F     F   \n",
       "5    DGN3  2.48  1.88  PRZ1    F    F    F     T     F  OC11     F     F   \n",
       "..    ...   ...   ...   ...  ...  ...  ...   ...   ...   ...   ...   ...   \n",
       "465  DGN2  3.88  2.12  PRZ1    F    F    F     T     F  OC13     F     F   \n",
       "466  DGN3  3.76  3.12  PRZ0    F    F    F     F     F  OC11     F     F   \n",
       "467  DGN3  3.04  2.08  PRZ1    F    F    F     T     F  OC13     F     F   \n",
       "468  DGN3  1.96  1.68  PRZ1    F    F    F     T     T  OC12     F     F   \n",
       "469  DGN3  4.72  3.56  PRZ0    F    F    F     F     F  OC12     F     F   \n",
       "\n",
       "    PRE25 PRE30 PRE32  AGE Risk1Yr  \n",
       "0       F     T     F   60       F  \n",
       "1       F     T     F   51       F  \n",
       "2       F     T     F   59       F  \n",
       "3       F     F     F   54       F  \n",
       "5       F     F     F   51       F  \n",
       "..    ...   ...   ...  ...     ...  \n",
       "465     F     T     F   63       F  \n",
       "466     F     T     F   61       F  \n",
       "467     F     F     F   52       F  \n",
       "468     F     T     F   79       F  \n",
       "469     F     T     F   51       F  \n",
       "\n",
       "[400 rows x 17 columns]"
      ]
     },
     "execution_count": 26,
     "metadata": {},
     "output_type": "execute_result"
    }
   ],
   "source": [
    "columns = [\n",
    "           \"DGN\",\n",
    "           \"PRE4\",\n",
    "           \"PRE5\",\n",
    "           \"PRE6\",\n",
    "           \"PRE7\",\n",
    "           \"PRE8\",\n",
    "           \"PRE9\",\n",
    "           \"PRE10\",\n",
    "           \"PRE11\",\n",
    "           \"PRE14\",\n",
    "           \"PRE17\",\n",
    "           \"PRE19\",\n",
    "           \"PRE25\",\n",
    "           \"PRE30\",\n",
    "           \"PRE32\",\n",
    "           \"AGE\",\n",
    "           \"Risk1Yr\",\n",
    "]\n",
    "\n",
    "lived_df = new_df.loc[new_df[\"Risk1Yr\"] == \"F\", columns ]\n",
    "lived_df"
   ]
  },
  {
   "cell_type": "code",
   "execution_count": 27,
   "metadata": {},
   "outputs": [
    {
     "name": "stdout",
     "output_type": "stream",
     "text": [
      "F    376\n",
      "T     24\n",
      "Name: PRE7, dtype: int64\n",
      "-------------------------\n",
      "F    346\n",
      "T     54\n",
      "Name: PRE8, dtype: int64\n",
      "-------------------------\n",
      "F    378\n",
      "T     22\n",
      "Name: PRE9, dtype: int64\n",
      "-------------------------\n",
      "T    268\n",
      "F    132\n",
      "Name: PRE10, dtype: int64\n",
      "-------------------------\n",
      "F    339\n",
      "T     61\n",
      "Name: PRE11, dtype: int64\n",
      "-------------------------\n",
      "OC12    218\n",
      "OC11    159\n",
      "OC13     13\n",
      "OC14     10\n",
      "Name: PRE14, dtype: int64\n",
      "-------------------------\n",
      "F    375\n",
      "T     25\n",
      "Name: PRE17, dtype: int64\n",
      "-------------------------\n",
      "F    398\n",
      "T      2\n",
      "Name: PRE19, dtype: int64\n",
      "-------------------------\n",
      "F    394\n",
      "T      6\n",
      "Name: PRE25, dtype: int64\n",
      "-------------------------\n",
      "T    323\n",
      "F     77\n",
      "Name: PRE30, dtype: int64\n",
      "-------------------------\n",
      "F    398\n",
      "T      2\n",
      "Name: PRE32, dtype: int64\n"
     ]
    }
   ],
   "source": [
    "# counts\n",
    "pre7_df = lived_df[\"PRE7\"].value_counts()\n",
    "pre8_df = lived_df[\"PRE8\"].value_counts()\n",
    "pre9_df = lived_df[\"PRE9\"].value_counts()\n",
    "pre10_df = lived_df[\"PRE10\"].value_counts()\n",
    "pre11_df = lived_df[\"PRE11\"].value_counts()\n",
    "pre14_df = lived_df[\"PRE14\"].value_counts()\n",
    "pre17_df = lived_df[\"PRE17\"].value_counts()\n",
    "pre19_df = lived_df[\"PRE19\"].value_counts()\n",
    "pre25_df = lived_df[\"PRE25\"].value_counts()\n",
    "pre30_df = lived_df[\"PRE30\"].value_counts()\n",
    "pre32_df = lived_df[\"PRE32\"].value_counts()\n",
    "\n",
    "print(pre7_df)\n",
    "print(f\"-------------------------\")\n",
    "print(pre8_df)\n",
    "print(f\"-------------------------\")\n",
    "print(pre9_df)\n",
    "print(f\"-------------------------\")\n",
    "print(pre10_df)\n",
    "print(f\"-------------------------\")\n",
    "print(pre11_df)\n",
    "print(f\"-------------------------\")\n",
    "print(pre14_df)\n",
    "print(f\"-------------------------\")\n",
    "print(pre17_df)\n",
    "print(f\"-------------------------\")\n",
    "print(pre19_df)\n",
    "print(f\"-------------------------\")\n",
    "print(pre25_df)\n",
    "print(f\"-------------------------\")\n",
    "print(pre30_df)\n",
    "print(f\"-------------------------\")\n",
    "print(pre32_df)"
   ]
  },
  {
   "cell_type": "code",
   "execution_count": 28,
   "metadata": {},
   "outputs": [
    {
     "data": {
      "text/plain": [
       "DGN3    306\n",
       "DGN2     40\n",
       "DGN4     40\n",
       "DGN5      8\n",
       "DGN6      4\n",
       "DGN8      1\n",
       "DGN1      1\n",
       "Name: DGN, dtype: int64"
      ]
     },
     "execution_count": 28,
     "metadata": {},
     "output_type": "execute_result"
    }
   ],
   "source": [
    "DGN_df = lived_df[\"DGN\"].value_counts()\n",
    "DGN_df"
   ]
  },
  {
   "cell_type": "code",
   "execution_count": 29,
   "metadata": {},
   "outputs": [
    {
     "data": {
      "text/html": [
       "<div>\n",
       "<style scoped>\n",
       "    .dataframe tbody tr th:only-of-type {\n",
       "        vertical-align: middle;\n",
       "    }\n",
       "\n",
       "    .dataframe tbody tr th {\n",
       "        vertical-align: top;\n",
       "    }\n",
       "\n",
       "    .dataframe thead th {\n",
       "        text-align: right;\n",
       "    }\n",
       "</style>\n",
       "<table border=\"1\" class=\"dataframe\">\n",
       "  <thead>\n",
       "    <tr style=\"text-align: right;\">\n",
       "      <th></th>\n",
       "      <th>DGN</th>\n",
       "      <th>PRE4</th>\n",
       "      <th>PRE5</th>\n",
       "      <th>PRE6</th>\n",
       "      <th>PRE7</th>\n",
       "      <th>PRE8</th>\n",
       "      <th>PRE9</th>\n",
       "      <th>PRE10</th>\n",
       "      <th>PRE11</th>\n",
       "      <th>PRE14</th>\n",
       "      <th>PRE17</th>\n",
       "      <th>PRE19</th>\n",
       "      <th>PRE25</th>\n",
       "      <th>PRE30</th>\n",
       "      <th>PRE32</th>\n",
       "      <th>AGE</th>\n",
       "      <th>Risk1Yr</th>\n",
       "    </tr>\n",
       "  </thead>\n",
       "  <tbody>\n",
       "    <tr>\n",
       "      <th>0</th>\n",
       "      <td>2</td>\n",
       "      <td>2.88</td>\n",
       "      <td>2.16</td>\n",
       "      <td>1</td>\n",
       "      <td>F</td>\n",
       "      <td>F</td>\n",
       "      <td>F</td>\n",
       "      <td>T</td>\n",
       "      <td>T</td>\n",
       "      <td>14</td>\n",
       "      <td>F</td>\n",
       "      <td>F</td>\n",
       "      <td>F</td>\n",
       "      <td>T</td>\n",
       "      <td>F</td>\n",
       "      <td>60</td>\n",
       "      <td>F</td>\n",
       "    </tr>\n",
       "    <tr>\n",
       "      <th>1</th>\n",
       "      <td>3</td>\n",
       "      <td>3.40</td>\n",
       "      <td>1.88</td>\n",
       "      <td>0</td>\n",
       "      <td>F</td>\n",
       "      <td>F</td>\n",
       "      <td>F</td>\n",
       "      <td>F</td>\n",
       "      <td>F</td>\n",
       "      <td>12</td>\n",
       "      <td>F</td>\n",
       "      <td>F</td>\n",
       "      <td>F</td>\n",
       "      <td>T</td>\n",
       "      <td>F</td>\n",
       "      <td>51</td>\n",
       "      <td>F</td>\n",
       "    </tr>\n",
       "    <tr>\n",
       "      <th>2</th>\n",
       "      <td>3</td>\n",
       "      <td>2.76</td>\n",
       "      <td>2.08</td>\n",
       "      <td>1</td>\n",
       "      <td>F</td>\n",
       "      <td>F</td>\n",
       "      <td>F</td>\n",
       "      <td>T</td>\n",
       "      <td>F</td>\n",
       "      <td>11</td>\n",
       "      <td>F</td>\n",
       "      <td>F</td>\n",
       "      <td>F</td>\n",
       "      <td>T</td>\n",
       "      <td>F</td>\n",
       "      <td>59</td>\n",
       "      <td>F</td>\n",
       "    </tr>\n",
       "    <tr>\n",
       "      <th>3</th>\n",
       "      <td>3</td>\n",
       "      <td>3.68</td>\n",
       "      <td>3.04</td>\n",
       "      <td>0</td>\n",
       "      <td>F</td>\n",
       "      <td>F</td>\n",
       "      <td>F</td>\n",
       "      <td>F</td>\n",
       "      <td>F</td>\n",
       "      <td>11</td>\n",
       "      <td>F</td>\n",
       "      <td>F</td>\n",
       "      <td>F</td>\n",
       "      <td>F</td>\n",
       "      <td>F</td>\n",
       "      <td>54</td>\n",
       "      <td>F</td>\n",
       "    </tr>\n",
       "    <tr>\n",
       "      <th>4</th>\n",
       "      <td>3</td>\n",
       "      <td>2.44</td>\n",
       "      <td>0.96</td>\n",
       "      <td>2</td>\n",
       "      <td>F</td>\n",
       "      <td>T</td>\n",
       "      <td>F</td>\n",
       "      <td>T</td>\n",
       "      <td>T</td>\n",
       "      <td>11</td>\n",
       "      <td>F</td>\n",
       "      <td>F</td>\n",
       "      <td>F</td>\n",
       "      <td>T</td>\n",
       "      <td>F</td>\n",
       "      <td>73</td>\n",
       "      <td>T</td>\n",
       "    </tr>\n",
       "  </tbody>\n",
       "</table>\n",
       "</div>"
      ],
      "text/plain": [
       "  DGN  PRE4  PRE5 PRE6 PRE7 PRE8 PRE9 PRE10 PRE11 PRE14 PRE17 PRE19 PRE25  \\\n",
       "0   2  2.88  2.16    1    F    F    F     T     T    14     F     F     F   \n",
       "1   3  3.40  1.88    0    F    F    F     F     F    12     F     F     F   \n",
       "2   3  2.76  2.08    1    F    F    F     T     F    11     F     F     F   \n",
       "3   3  3.68  3.04    0    F    F    F     F     F    11     F     F     F   \n",
       "4   3  2.44  0.96    2    F    T    F     T     T    11     F     F     F   \n",
       "\n",
       "  PRE30 PRE32  AGE Risk1Yr  \n",
       "0     T     F   60       F  \n",
       "1     T     F   51       F  \n",
       "2     T     F   59       F  \n",
       "3     F     F   54       F  \n",
       "4     T     F   73       T  "
      ]
     },
     "execution_count": 29,
     "metadata": {},
     "output_type": "execute_result"
    }
   ],
   "source": [
    "# Cleaning dataframe - adjusting string values into numeric processible values\n",
    "new_df['DGN'] = np.where(new_df['DGN'] == 'DGN1', '1', new_df['DGN'] )\n",
    "new_df['DGN'] = np.where(new_df['DGN'] == 'DGN2', '2', new_df['DGN'] )\n",
    "new_df['DGN'] = np.where(new_df['DGN'] == 'DGN3', '3', new_df['DGN'] )\n",
    "new_df['DGN'] = np.where(new_df['DGN'] == 'DGN4', '4', new_df['DGN'] )\n",
    "new_df['DGN'] = np.where(new_df['DGN'] == 'DGN5', '5', new_df['DGN'] )\n",
    "new_df['DGN'] = np.where(new_df['DGN'] == 'DGN6', '6', new_df['DGN'] )\n",
    "new_df['DGN'] = np.where(new_df['DGN'] == 'DGN8', '8', new_df['DGN'] )\n",
    "new_df['PRE6'] = np.where(new_df['PRE6'] == 'PRZ2', '2', new_df['PRE6'] )\n",
    "new_df['PRE6'] = np.where(new_df['PRE6'] == 'PRZ1', '1', new_df['PRE6'] )\n",
    "new_df['PRE6'] = np.where(new_df['PRE6'] == 'PRZ0', '0', new_df['PRE6'] )\n",
    "new_df['PRE14'] = np.where(new_df['PRE14'] == 'OC11', '11', new_df['PRE14'] )\n",
    "new_df['PRE14'] = np.where(new_df['PRE14'] == 'OC12', '12', new_df['PRE14'] )\n",
    "new_df['PRE14'] = np.where(new_df['PRE14'] == 'OC13', '13', new_df['PRE14'] )\n",
    "new_df['PRE14'] = np.where(new_df['PRE14'] == 'OC14', '14', new_df['PRE14'] )\n",
    "new_df.head()"
   ]
  },
  {
   "cell_type": "code",
   "execution_count": 30,
   "metadata": {},
   "outputs": [],
   "source": [
    "# Data Cleaning - copying dataframe to allow other adjustments for later\n",
    "cleaned_df = new_df"
   ]
  },
  {
   "cell_type": "code",
   "execution_count": 31,
   "metadata": {},
   "outputs": [
    {
     "data": {
      "text/html": [
       "<div>\n",
       "<style scoped>\n",
       "    .dataframe tbody tr th:only-of-type {\n",
       "        vertical-align: middle;\n",
       "    }\n",
       "\n",
       "    .dataframe tbody tr th {\n",
       "        vertical-align: top;\n",
       "    }\n",
       "\n",
       "    .dataframe thead th {\n",
       "        text-align: right;\n",
       "    }\n",
       "</style>\n",
       "<table border=\"1\" class=\"dataframe\">\n",
       "  <thead>\n",
       "    <tr style=\"text-align: right;\">\n",
       "      <th></th>\n",
       "      <th>DGN</th>\n",
       "      <th>PRE4</th>\n",
       "      <th>PRE5</th>\n",
       "      <th>PRE6</th>\n",
       "      <th>PRE7</th>\n",
       "      <th>PRE8</th>\n",
       "      <th>PRE9</th>\n",
       "      <th>PRE10</th>\n",
       "      <th>PRE11</th>\n",
       "      <th>PRE14</th>\n",
       "      <th>PRE17</th>\n",
       "      <th>PRE19</th>\n",
       "      <th>PRE25</th>\n",
       "      <th>PRE30</th>\n",
       "      <th>PRE32</th>\n",
       "      <th>AGE</th>\n",
       "      <th>Risk1Yr</th>\n",
       "    </tr>\n",
       "  </thead>\n",
       "  <tbody>\n",
       "    <tr>\n",
       "      <th>0</th>\n",
       "      <td>2</td>\n",
       "      <td>2.88</td>\n",
       "      <td>2.16</td>\n",
       "      <td>1</td>\n",
       "      <td>1</td>\n",
       "      <td>1</td>\n",
       "      <td>1</td>\n",
       "      <td>0</td>\n",
       "      <td>0</td>\n",
       "      <td>14</td>\n",
       "      <td>1</td>\n",
       "      <td>1</td>\n",
       "      <td>1</td>\n",
       "      <td>0</td>\n",
       "      <td>1</td>\n",
       "      <td>60</td>\n",
       "      <td>1</td>\n",
       "    </tr>\n",
       "    <tr>\n",
       "      <th>1</th>\n",
       "      <td>3</td>\n",
       "      <td>3.40</td>\n",
       "      <td>1.88</td>\n",
       "      <td>0</td>\n",
       "      <td>1</td>\n",
       "      <td>1</td>\n",
       "      <td>1</td>\n",
       "      <td>1</td>\n",
       "      <td>1</td>\n",
       "      <td>12</td>\n",
       "      <td>1</td>\n",
       "      <td>1</td>\n",
       "      <td>1</td>\n",
       "      <td>0</td>\n",
       "      <td>1</td>\n",
       "      <td>51</td>\n",
       "      <td>1</td>\n",
       "    </tr>\n",
       "    <tr>\n",
       "      <th>2</th>\n",
       "      <td>3</td>\n",
       "      <td>2.76</td>\n",
       "      <td>2.08</td>\n",
       "      <td>1</td>\n",
       "      <td>1</td>\n",
       "      <td>1</td>\n",
       "      <td>1</td>\n",
       "      <td>0</td>\n",
       "      <td>1</td>\n",
       "      <td>11</td>\n",
       "      <td>1</td>\n",
       "      <td>1</td>\n",
       "      <td>1</td>\n",
       "      <td>0</td>\n",
       "      <td>1</td>\n",
       "      <td>59</td>\n",
       "      <td>1</td>\n",
       "    </tr>\n",
       "    <tr>\n",
       "      <th>3</th>\n",
       "      <td>3</td>\n",
       "      <td>3.68</td>\n",
       "      <td>3.04</td>\n",
       "      <td>0</td>\n",
       "      <td>1</td>\n",
       "      <td>1</td>\n",
       "      <td>1</td>\n",
       "      <td>1</td>\n",
       "      <td>1</td>\n",
       "      <td>11</td>\n",
       "      <td>1</td>\n",
       "      <td>1</td>\n",
       "      <td>1</td>\n",
       "      <td>1</td>\n",
       "      <td>1</td>\n",
       "      <td>54</td>\n",
       "      <td>1</td>\n",
       "    </tr>\n",
       "    <tr>\n",
       "      <th>4</th>\n",
       "      <td>3</td>\n",
       "      <td>2.44</td>\n",
       "      <td>0.96</td>\n",
       "      <td>2</td>\n",
       "      <td>1</td>\n",
       "      <td>0</td>\n",
       "      <td>1</td>\n",
       "      <td>0</td>\n",
       "      <td>0</td>\n",
       "      <td>11</td>\n",
       "      <td>1</td>\n",
       "      <td>1</td>\n",
       "      <td>1</td>\n",
       "      <td>0</td>\n",
       "      <td>1</td>\n",
       "      <td>73</td>\n",
       "      <td>0</td>\n",
       "    </tr>\n",
       "  </tbody>\n",
       "</table>\n",
       "</div>"
      ],
      "text/plain": [
       "  DGN  PRE4  PRE5 PRE6 PRE7 PRE8 PRE9 PRE10 PRE11 PRE14 PRE17 PRE19 PRE25  \\\n",
       "0   2  2.88  2.16    1    1    1    1     0     0    14     1     1     1   \n",
       "1   3  3.40  1.88    0    1    1    1     1     1    12     1     1     1   \n",
       "2   3  2.76  2.08    1    1    1    1     0     1    11     1     1     1   \n",
       "3   3  3.68  3.04    0    1    1    1     1     1    11     1     1     1   \n",
       "4   3  2.44  0.96    2    1    0    1     0     0    11     1     1     1   \n",
       "\n",
       "  PRE30 PRE32  AGE Risk1Yr  \n",
       "0     0     1   60       1  \n",
       "1     0     1   51       1  \n",
       "2     0     1   59       1  \n",
       "3     1     1   54       1  \n",
       "4     0     1   73       0  "
      ]
     },
     "execution_count": 31,
     "metadata": {},
     "output_type": "execute_result"
    }
   ],
   "source": [
    "cleaned_df['PRE7'] = np.where(cleaned_df['PRE7'] == 'T', '0', cleaned_df['PRE7'] )\n",
    "cleaned_df['PRE7'] = np.where(cleaned_df['PRE7'] == 'F', '1', cleaned_df['PRE7'] )\n",
    "cleaned_df['PRE8'] = np.where(cleaned_df['PRE8'] == 'T', '0', cleaned_df['PRE8'] )\n",
    "cleaned_df['PRE8'] = np.where(cleaned_df['PRE8'] == 'F', '1', cleaned_df['PRE8'] )\n",
    "cleaned_df['PRE9'] = np.where(cleaned_df['PRE9'] == 'T', '0', cleaned_df['PRE9'] )\n",
    "cleaned_df['PRE9'] = np.where(cleaned_df['PRE9'] == 'F', '1', cleaned_df['PRE9'] )\n",
    "cleaned_df['PRE10'] = np.where(cleaned_df['PRE10'] == 'T', '0', cleaned_df['PRE10'] )\n",
    "cleaned_df['PRE10'] = np.where(cleaned_df['PRE10'] == 'F', '1', cleaned_df['PRE10'] )\n",
    "cleaned_df['PRE11'] = np.where(cleaned_df['PRE11'] == 'T', '0', cleaned_df['PRE11'] )\n",
    "cleaned_df['PRE11'] = np.where(cleaned_df['PRE11'] == 'F', '1', cleaned_df['PRE11'] )\n",
    "cleaned_df['PRE17'] = np.where(cleaned_df['PRE17'] == 'T', '0', cleaned_df['PRE17'] )\n",
    "cleaned_df['PRE17'] = np.where(cleaned_df['PRE17'] == 'F', '1', cleaned_df['PRE17'] )\n",
    "cleaned_df['PRE19'] = np.where(cleaned_df['PRE19'] == 'T', '0', cleaned_df['PRE19'] )\n",
    "cleaned_df['PRE19'] = np.where(cleaned_df['PRE19'] == 'F', '1', cleaned_df['PRE19'] )\n",
    "cleaned_df['PRE25'] = np.where(cleaned_df['PRE25'] == 'T', '0', cleaned_df['PRE25'] )\n",
    "cleaned_df['PRE25'] = np.where(cleaned_df['PRE25'] == 'F', '1', cleaned_df['PRE25'] )\n",
    "cleaned_df['PRE30'] = np.where(cleaned_df['PRE30'] == 'T', '0', cleaned_df['PRE30'] )\n",
    "cleaned_df['PRE30'] = np.where(cleaned_df['PRE30'] == 'F', '1', cleaned_df['PRE30'] )\n",
    "cleaned_df['PRE32'] = np.where(cleaned_df['PRE32'] == 'T', '0', cleaned_df['PRE32'] )\n",
    "cleaned_df['PRE32'] = np.where(cleaned_df['PRE32'] == 'F', '1', cleaned_df['PRE32'] )\n",
    "cleaned_df['Risk1Yr'] = np.where(cleaned_df['Risk1Yr'] == 'T', '0', cleaned_df['Risk1Yr'] )\n",
    "cleaned_df['Risk1Yr'] = np.where(cleaned_df['Risk1Yr'] == 'F', '1', cleaned_df['Risk1Yr'] )\n",
    "cleaned_df.head()"
   ]
  },
  {
   "cell_type": "code",
   "execution_count": 32,
   "metadata": {},
   "outputs": [],
   "source": [
    "cleaned_df['DGN'] = cleaned_df['DGN'].astype(int)\n",
    "cleaned_df['PRE6'] = cleaned_df['PRE6'].astype(int)\n",
    "cleaned_df['PRE7'] = cleaned_df['PRE7'].astype(int)\n",
    "cleaned_df['PRE8'] = cleaned_df['PRE8'].astype(int)\n",
    "cleaned_df['PRE9'] = cleaned_df['PRE9'].astype(int)\n",
    "cleaned_df['PRE10'] = cleaned_df['PRE10'].astype(int)\n",
    "cleaned_df['PRE11'] = cleaned_df['PRE11'].astype(int)\n",
    "cleaned_df['PRE14'] = cleaned_df['PRE14'].astype(int)\n",
    "cleaned_df['PRE17'] = cleaned_df['PRE17'].astype(int)\n",
    "cleaned_df['PRE19'] = cleaned_df['PRE19'].astype(int)\n",
    "cleaned_df['PRE25'] = cleaned_df['PRE25'].astype(int)\n",
    "cleaned_df['PRE30'] = cleaned_df['PRE30'].astype(int)\n",
    "cleaned_df['PRE32'] = cleaned_df['PRE32'].astype(int)\n",
    "cleaned_df['Risk1Yr'] = cleaned_df['Risk1Yr'].astype(int)"
   ]
  },
  {
   "cell_type": "code",
   "execution_count": 33,
   "metadata": {},
   "outputs": [
    {
     "data": {
      "text/plain": [
       "DGN          int32\n",
       "PRE4       float64\n",
       "PRE5       float64\n",
       "PRE6         int32\n",
       "PRE7         int32\n",
       "PRE8         int32\n",
       "PRE9         int32\n",
       "PRE10        int32\n",
       "PRE11        int32\n",
       "PRE14        int32\n",
       "PRE17        int32\n",
       "PRE19        int32\n",
       "PRE25        int32\n",
       "PRE30        int32\n",
       "PRE32        int32\n",
       "AGE          int64\n",
       "Risk1Yr      int32\n",
       "dtype: object"
      ]
     },
     "execution_count": 33,
     "metadata": {},
     "output_type": "execute_result"
    }
   ],
   "source": [
    "cleaned_df.dtypes"
   ]
  },
  {
   "cell_type": "markdown",
   "metadata": {},
   "source": [
    "# Modeling on Risk1Yr"
   ]
  },
  {
   "cell_type": "code",
   "execution_count": 34,
   "metadata": {},
   "outputs": [
    {
     "name": "stdout",
     "output_type": "stream",
     "text": [
      "(470, 16) (470,)\n"
     ]
    }
   ],
   "source": [
    "X = cleaned_df.drop('Risk1Yr', axis=1)\n",
    "y = cleaned_df['Risk1Yr']\n",
    "print(X.shape, y.shape)"
   ]
  },
  {
   "cell_type": "code",
   "execution_count": 35,
   "metadata": {},
   "outputs": [],
   "source": [
    "X_train, X_test, y_train, y_test = train_test_split(X, y, random_state=1)"
   ]
  },
  {
   "cell_type": "code",
   "execution_count": 36,
   "metadata": {},
   "outputs": [],
   "source": [
    "X_scaler = MinMaxScaler().fit(X_train)\n",
    "X_train_scaled = X_scaler.transform(X_train)\n",
    "X_test_scaled = X_scaler.transform(X_test)"
   ]
  },
  {
   "cell_type": "code",
   "execution_count": 37,
   "metadata": {},
   "outputs": [],
   "source": [
    "label_encoder = LabelEncoder()\n",
    "label_encoder.fit(y_train)\n",
    "encoded_y_train = label_encoder.transform(y_train)\n",
    "encoded_y_test = label_encoder.transform(y_test)"
   ]
  },
  {
   "cell_type": "code",
   "execution_count": 38,
   "metadata": {},
   "outputs": [],
   "source": [
    "y_train_categorical = to_categorical(encoded_y_train)\n",
    "y_test_categorical = to_categorical(encoded_y_test)"
   ]
  },
  {
   "cell_type": "code",
   "execution_count": 39,
   "metadata": {},
   "outputs": [],
   "source": [
    "model = Sequential()\n",
    "model.add(Dense(units=100, activation='relu', input_dim=16))\n",
    "model.add(Dense(units=100, activation='relu'))\n",
    "model.add(Dense(units=2, activation='softmax'))"
   ]
  },
  {
   "cell_type": "code",
   "execution_count": 40,
   "metadata": {},
   "outputs": [],
   "source": [
    "model.compile(optimizer='adam',\n",
    "              loss='categorical_crossentropy',\n",
    "              metrics=['accuracy'])"
   ]
  },
  {
   "cell_type": "code",
   "execution_count": 41,
   "metadata": {},
   "outputs": [
    {
     "name": "stdout",
     "output_type": "stream",
     "text": [
      "Model: \"sequential_1\"\n",
      "_________________________________________________________________\n",
      "Layer (type)                 Output Shape              Param #   \n",
      "=================================================================\n",
      "dense_3 (Dense)              (None, 100)               1700      \n",
      "_________________________________________________________________\n",
      "dense_4 (Dense)              (None, 100)               10100     \n",
      "_________________________________________________________________\n",
      "dense_5 (Dense)              (None, 2)                 202       \n",
      "=================================================================\n",
      "Total params: 12,002\n",
      "Trainable params: 12,002\n",
      "Non-trainable params: 0\n",
      "_________________________________________________________________\n"
     ]
    }
   ],
   "source": [
    "model.summary()"
   ]
  },
  {
   "cell_type": "code",
   "execution_count": 42,
   "metadata": {},
   "outputs": [
    {
     "name": "stdout",
     "output_type": "stream",
     "text": [
      "Epoch 1/60\n",
      "11/11 - 1s - loss: 0.4920 - accuracy: 0.8153\n",
      "Epoch 2/60\n",
      "11/11 - 0s - loss: 0.4247 - accuracy: 0.8523\n",
      "Epoch 3/60\n",
      "11/11 - 0s - loss: 0.4080 - accuracy: 0.8523\n",
      "Epoch 4/60\n",
      "11/11 - 0s - loss: 0.4086 - accuracy: 0.8523\n",
      "Epoch 5/60\n",
      "11/11 - 0s - loss: 0.4007 - accuracy: 0.8523\n",
      "Epoch 6/60\n",
      "11/11 - 0s - loss: 0.3989 - accuracy: 0.8523\n",
      "Epoch 7/60\n",
      "11/11 - 0s - loss: 0.3941 - accuracy: 0.8523\n",
      "Epoch 8/60\n",
      "11/11 - 0s - loss: 0.3927 - accuracy: 0.8523\n",
      "Epoch 9/60\n",
      "11/11 - 0s - loss: 0.3853 - accuracy: 0.8523\n",
      "Epoch 10/60\n",
      "11/11 - 0s - loss: 0.3817 - accuracy: 0.8523\n",
      "Epoch 11/60\n",
      "11/11 - 0s - loss: 0.3797 - accuracy: 0.8523\n",
      "Epoch 12/60\n",
      "11/11 - 0s - loss: 0.3772 - accuracy: 0.8523\n",
      "Epoch 13/60\n",
      "11/11 - 0s - loss: 0.3800 - accuracy: 0.8523\n",
      "Epoch 14/60\n",
      "11/11 - 0s - loss: 0.3724 - accuracy: 0.8523\n",
      "Epoch 15/60\n",
      "11/11 - 0s - loss: 0.3638 - accuracy: 0.8523\n",
      "Epoch 16/60\n",
      "11/11 - 0s - loss: 0.3647 - accuracy: 0.8494\n",
      "Epoch 17/60\n",
      "11/11 - 0s - loss: 0.3665 - accuracy: 0.8523\n",
      "Epoch 18/60\n",
      "11/11 - 0s - loss: 0.3622 - accuracy: 0.8523\n",
      "Epoch 19/60\n",
      "11/11 - 0s - loss: 0.3605 - accuracy: 0.8523\n",
      "Epoch 20/60\n",
      "11/11 - 0s - loss: 0.3524 - accuracy: 0.8551\n",
      "Epoch 21/60\n",
      "11/11 - 0s - loss: 0.3511 - accuracy: 0.8523\n",
      "Epoch 22/60\n",
      "11/11 - 0s - loss: 0.3483 - accuracy: 0.8580\n",
      "Epoch 23/60\n",
      "11/11 - 0s - loss: 0.3453 - accuracy: 0.8551\n",
      "Epoch 24/60\n",
      "11/11 - 0s - loss: 0.3389 - accuracy: 0.8551\n",
      "Epoch 25/60\n",
      "11/11 - 0s - loss: 0.3394 - accuracy: 0.8608\n",
      "Epoch 26/60\n",
      "11/11 - 0s - loss: 0.3405 - accuracy: 0.8665\n",
      "Epoch 27/60\n",
      "11/11 - 0s - loss: 0.3364 - accuracy: 0.8608\n",
      "Epoch 28/60\n",
      "11/11 - 0s - loss: 0.3355 - accuracy: 0.8636\n",
      "Epoch 29/60\n",
      "11/11 - 0s - loss: 0.3326 - accuracy: 0.8608\n",
      "Epoch 30/60\n",
      "11/11 - 0s - loss: 0.3264 - accuracy: 0.8722\n",
      "Epoch 31/60\n",
      "11/11 - 0s - loss: 0.3244 - accuracy: 0.8722\n",
      "Epoch 32/60\n",
      "11/11 - 0s - loss: 0.3241 - accuracy: 0.8778\n",
      "Epoch 33/60\n",
      "11/11 - 0s - loss: 0.3171 - accuracy: 0.8750\n",
      "Epoch 34/60\n",
      "11/11 - 0s - loss: 0.3130 - accuracy: 0.8778\n",
      "Epoch 35/60\n",
      "11/11 - 0s - loss: 0.3121 - accuracy: 0.8864\n",
      "Epoch 36/60\n",
      "11/11 - 0s - loss: 0.3213 - accuracy: 0.8750\n",
      "Epoch 37/60\n",
      "11/11 - 0s - loss: 0.3169 - accuracy: 0.8807\n",
      "Epoch 38/60\n",
      "11/11 - 0s - loss: 0.3032 - accuracy: 0.8864\n",
      "Epoch 39/60\n",
      "11/11 - 0s - loss: 0.3012 - accuracy: 0.8892\n",
      "Epoch 40/60\n",
      "11/11 - 0s - loss: 0.2978 - accuracy: 0.8920\n",
      "Epoch 41/60\n",
      "11/11 - 0s - loss: 0.3002 - accuracy: 0.8722\n",
      "Epoch 42/60\n",
      "11/11 - 0s - loss: 0.2926 - accuracy: 0.8949\n",
      "Epoch 43/60\n",
      "11/11 - 0s - loss: 0.2935 - accuracy: 0.8892\n",
      "Epoch 44/60\n",
      "11/11 - 0s - loss: 0.2980 - accuracy: 0.8920\n",
      "Epoch 45/60\n",
      "11/11 - 0s - loss: 0.2887 - accuracy: 0.8977\n",
      "Epoch 46/60\n",
      "11/11 - 0s - loss: 0.2980 - accuracy: 0.8864\n",
      "Epoch 47/60\n",
      "11/11 - 0s - loss: 0.3024 - accuracy: 0.8949\n",
      "Epoch 48/60\n",
      "11/11 - 0s - loss: 0.3202 - accuracy: 0.8750\n",
      "Epoch 49/60\n",
      "11/11 - 0s - loss: 0.2914 - accuracy: 0.8977\n",
      "Epoch 50/60\n",
      "11/11 - 0s - loss: 0.2779 - accuracy: 0.8892\n",
      "Epoch 51/60\n",
      "11/11 - 0s - loss: 0.2837 - accuracy: 0.8949\n",
      "Epoch 52/60\n",
      "11/11 - 0s - loss: 0.2729 - accuracy: 0.9034\n",
      "Epoch 53/60\n",
      "11/11 - 0s - loss: 0.2737 - accuracy: 0.9034\n",
      "Epoch 54/60\n",
      "11/11 - 0s - loss: 0.2664 - accuracy: 0.9091\n",
      "Epoch 55/60\n",
      "11/11 - 0s - loss: 0.2647 - accuracy: 0.9091\n",
      "Epoch 56/60\n",
      "11/11 - 0s - loss: 0.2696 - accuracy: 0.9006\n",
      "Epoch 57/60\n",
      "11/11 - 0s - loss: 0.2620 - accuracy: 0.9148\n",
      "Epoch 58/60\n",
      "11/11 - 0s - loss: 0.2663 - accuracy: 0.8835\n",
      "Epoch 59/60\n",
      "11/11 - 0s - loss: 0.2693 - accuracy: 0.9119\n",
      "Epoch 60/60\n",
      "11/11 - 0s - loss: 0.2562 - accuracy: 0.9119\n"
     ]
    },
    {
     "data": {
      "text/plain": [
       "<tensorflow.python.keras.callbacks.History at 0x14a9bec7c40>"
      ]
     },
     "execution_count": 42,
     "metadata": {},
     "output_type": "execute_result"
    }
   ],
   "source": [
    "model.fit(\n",
    "    X_train_scaled,\n",
    "    y_train_categorical,\n",
    "    epochs=60,\n",
    "    shuffle=True,\n",
    "    verbose=2\n",
    ")"
   ]
  },
  {
   "cell_type": "code",
   "execution_count": 43,
   "metadata": {},
   "outputs": [
    {
     "name": "stdout",
     "output_type": "stream",
     "text": [
      "4/4 - 0s - loss: 0.5128 - accuracy: 0.8390\n",
      "Normal Neural Network - Loss: 0.5127676725387573, Accuracy: 0.8389830589294434\n"
     ]
    }
   ],
   "source": [
    "model_loss, model_accuracy = model.evaluate(\n",
    "    X_test_scaled, y_test_categorical, verbose=2)\n",
    "print(\n",
    "    f\"Normal Neural Network - Loss: {model_loss}, Accuracy: {model_accuracy}\")"
   ]
  },
  {
   "cell_type": "code",
   "execution_count": 44,
   "metadata": {},
   "outputs": [
    {
     "name": "stderr",
     "output_type": "stream",
     "text": [
      "C:\\Users\\petej\\Anaconda3\\lib\\site-packages\\tensorflow\\python\\keras\\engine\\sequential.py:455: UserWarning: `model.predict_classes()` is deprecated and will be removed after 2021-01-01. Please use instead:* `np.argmax(model.predict(x), axis=-1)`,   if your model does multi-class classification   (e.g. if it uses a `softmax` last-layer activation).* `(model.predict(x) > 0.5).astype(\"int32\")`,   if your model does binary classification   (e.g. if it uses a `sigmoid` last-layer activation).\n",
      "  warnings.warn('`model.predict_classes()` is deprecated and '\n"
     ]
    }
   ],
   "source": [
    "encoded_predictions = model.predict_classes(X_test_scaled[:5])\n",
    "prediction_labels = label_encoder.inverse_transform(encoded_predictions)"
   ]
  },
  {
   "cell_type": "code",
   "execution_count": 45,
   "metadata": {},
   "outputs": [
    {
     "name": "stdout",
     "output_type": "stream",
     "text": [
      "Predicted classes: [1 1 1 1 1]\n",
      "Actual Labels: [1, 1, 1, 1, 1]\n"
     ]
    }
   ],
   "source": [
    "print(f\"Predicted classes: {prediction_labels}\")\n",
    "print(f\"Actual Labels: {list(y_test[:5])}\")"
   ]
  },
  {
   "cell_type": "code",
   "execution_count": 46,
   "metadata": {},
   "outputs": [],
   "source": [
    "from sklearn.svm import SVC \n",
    "\n",
    "model = SVC(kernel='linear')"
   ]
  },
  {
   "cell_type": "code",
   "execution_count": 47,
   "metadata": {},
   "outputs": [
    {
     "data": {
      "text/plain": [
       "SVC(kernel='linear')"
      ]
     },
     "execution_count": 47,
     "metadata": {},
     "output_type": "execute_result"
    }
   ],
   "source": [
    "SVC(kernel='linear')"
   ]
  },
  {
   "cell_type": "code",
   "execution_count": 48,
   "metadata": {},
   "outputs": [],
   "source": [
    "from sklearn.model_selection import GridSearchCV\n",
    "\n",
    "param_grid = {'C': [1, 5, 10, 50],\n",
    "              'gamma': [0.0001, 0.0005, 0.001, 0.005]}\n",
    "grid = GridSearchCV(model, param_grid, verbose=3)"
   ]
  },
  {
   "cell_type": "code",
   "execution_count": 49,
   "metadata": {},
   "outputs": [
    {
     "name": "stdout",
     "output_type": "stream",
     "text": [
      "Fitting 5 folds for each of 16 candidates, totalling 80 fits\n",
      "[CV 1/5] END ..............................C=1, gamma=0.0001; total time=   0.0s\n",
      "[CV 2/5] END ..............................C=1, gamma=0.0001; total time=   0.0s\n",
      "[CV 3/5] END ..............................C=1, gamma=0.0001; total time=   0.0s\n",
      "[CV 4/5] END ..............................C=1, gamma=0.0001; total time=   0.0s\n",
      "[CV 5/5] END ..............................C=1, gamma=0.0001; total time=   0.0s\n",
      "[CV 1/5] END ..............................C=1, gamma=0.0005; total time=   0.0s\n",
      "[CV 2/5] END ..............................C=1, gamma=0.0005; total time=   0.0s\n",
      "[CV 3/5] END ..............................C=1, gamma=0.0005; total time=   0.0s\n",
      "[CV 4/5] END ..............................C=1, gamma=0.0005; total time=   0.0s\n",
      "[CV 5/5] END ..............................C=1, gamma=0.0005; total time=   0.0s\n",
      "[CV 1/5] END ...............................C=1, gamma=0.001; total time=   0.0s\n",
      "[CV 2/5] END ...............................C=1, gamma=0.001; total time=   0.0s\n",
      "[CV 3/5] END ...............................C=1, gamma=0.001; total time=   0.0s\n",
      "[CV 4/5] END ...............................C=1, gamma=0.001; total time=   0.0s\n",
      "[CV 5/5] END ...............................C=1, gamma=0.001; total time=   0.0s\n",
      "[CV 1/5] END ...............................C=1, gamma=0.005; total time=   0.0s\n",
      "[CV 2/5] END ...............................C=1, gamma=0.005; total time=   0.0s\n",
      "[CV 3/5] END ...............................C=1, gamma=0.005; total time=   0.0s\n",
      "[CV 4/5] END ...............................C=1, gamma=0.005; total time=   0.0s\n",
      "[CV 5/5] END ...............................C=1, gamma=0.005; total time=   0.0s\n",
      "[CV 1/5] END ..............................C=5, gamma=0.0001; total time=   0.0s\n",
      "[CV 2/5] END ..............................C=5, gamma=0.0001; total time=   0.0s\n",
      "[CV 3/5] END ..............................C=5, gamma=0.0001; total time=   0.0s\n",
      "[CV 4/5] END ..............................C=5, gamma=0.0001; total time=   0.0s\n",
      "[CV 5/5] END ..............................C=5, gamma=0.0001; total time=   0.0s\n",
      "[CV 1/5] END ..............................C=5, gamma=0.0005; total time=   0.0s\n",
      "[CV 2/5] END ..............................C=5, gamma=0.0005; total time=   0.0s\n",
      "[CV 3/5] END ..............................C=5, gamma=0.0005; total time=   0.0s\n",
      "[CV 4/5] END ..............................C=5, gamma=0.0005; total time=   0.0s\n",
      "[CV 5/5] END ..............................C=5, gamma=0.0005; total time=   0.0s\n",
      "[CV 1/5] END ...............................C=5, gamma=0.001; total time=   0.0s\n",
      "[CV 2/5] END ...............................C=5, gamma=0.001; total time=   0.0s\n",
      "[CV 3/5] END ...............................C=5, gamma=0.001; total time=   0.0s\n",
      "[CV 4/5] END ...............................C=5, gamma=0.001; total time=   0.0s\n",
      "[CV 5/5] END ...............................C=5, gamma=0.001; total time=   0.0s\n",
      "[CV 1/5] END ...............................C=5, gamma=0.005; total time=   0.0s\n",
      "[CV 2/5] END ...............................C=5, gamma=0.005; total time=   0.0s\n",
      "[CV 3/5] END ...............................C=5, gamma=0.005; total time=   0.0s\n",
      "[CV 4/5] END ...............................C=5, gamma=0.005; total time=   0.0s\n",
      "[CV 5/5] END ...............................C=5, gamma=0.005; total time=   0.0s\n",
      "[CV 1/5] END .............................C=10, gamma=0.0001; total time=   0.0s\n",
      "[CV 2/5] END .............................C=10, gamma=0.0001; total time=   0.0s\n",
      "[CV 3/5] END .............................C=10, gamma=0.0001; total time=   0.0s\n",
      "[CV 4/5] END .............................C=10, gamma=0.0001; total time=   0.0s\n",
      "[CV 5/5] END .............................C=10, gamma=0.0001; total time=   0.0s\n",
      "[CV 1/5] END .............................C=10, gamma=0.0005; total time=   0.0s\n",
      "[CV 2/5] END .............................C=10, gamma=0.0005; total time=   0.0s\n",
      "[CV 3/5] END .............................C=10, gamma=0.0005; total time=   0.0s\n",
      "[CV 4/5] END .............................C=10, gamma=0.0005; total time=   0.0s\n",
      "[CV 5/5] END .............................C=10, gamma=0.0005; total time=   0.0s\n",
      "[CV 1/5] END ..............................C=10, gamma=0.001; total time=   0.0s\n",
      "[CV 2/5] END ..............................C=10, gamma=0.001; total time=   0.0s\n",
      "[CV 3/5] END ..............................C=10, gamma=0.001; total time=   0.0s\n",
      "[CV 4/5] END ..............................C=10, gamma=0.001; total time=   0.0s\n",
      "[CV 5/5] END ..............................C=10, gamma=0.001; total time=   0.0s\n",
      "[CV 1/5] END ..............................C=10, gamma=0.005; total time=   0.0s\n",
      "[CV 2/5] END ..............................C=10, gamma=0.005; total time=   0.0s\n",
      "[CV 3/5] END ..............................C=10, gamma=0.005; total time=   0.0s\n",
      "[CV 4/5] END ..............................C=10, gamma=0.005; total time=   0.0s\n",
      "[CV 5/5] END ..............................C=10, gamma=0.005; total time=   0.0s\n",
      "[CV 1/5] END .............................C=50, gamma=0.0001; total time=   0.0s\n",
      "[CV 2/5] END .............................C=50, gamma=0.0001; total time=   0.0s\n",
      "[CV 3/5] END .............................C=50, gamma=0.0001; total time=   0.0s\n",
      "[CV 4/5] END .............................C=50, gamma=0.0001; total time=   0.0s\n",
      "[CV 5/5] END .............................C=50, gamma=0.0001; total time=   0.0s\n",
      "[CV 1/5] END .............................C=50, gamma=0.0005; total time=   0.0s\n",
      "[CV 2/5] END .............................C=50, gamma=0.0005; total time=   0.0s\n",
      "[CV 3/5] END .............................C=50, gamma=0.0005; total time=   0.0s\n",
      "[CV 4/5] END .............................C=50, gamma=0.0005; total time=   0.0s\n",
      "[CV 5/5] END .............................C=50, gamma=0.0005; total time=   0.0s\n",
      "[CV 1/5] END ..............................C=50, gamma=0.001; total time=   0.0s\n",
      "[CV 2/5] END ..............................C=50, gamma=0.001; total time=   0.0s\n",
      "[CV 3/5] END ..............................C=50, gamma=0.001; total time=   0.0s\n",
      "[CV 4/5] END ..............................C=50, gamma=0.001; total time=   0.0s\n",
      "[CV 5/5] END ..............................C=50, gamma=0.001; total time=   0.0s\n",
      "[CV 1/5] END ..............................C=50, gamma=0.005; total time=   0.0s\n",
      "[CV 2/5] END ..............................C=50, gamma=0.005; total time=   0.0s\n",
      "[CV 3/5] END ..............................C=50, gamma=0.005; total time=   0.0s\n",
      "[CV 4/5] END ..............................C=50, gamma=0.005; total time=   0.0s\n",
      "[CV 5/5] END ..............................C=50, gamma=0.005; total time=   0.0s\n"
     ]
    },
    {
     "data": {
      "text/plain": [
       "GridSearchCV(estimator=SVC(kernel='linear'),\n",
       "             param_grid={'C': [1, 5, 10, 50],\n",
       "                         'gamma': [0.0001, 0.0005, 0.001, 0.005]},\n",
       "             verbose=3)"
      ]
     },
     "execution_count": 49,
     "metadata": {},
     "output_type": "execute_result"
    }
   ],
   "source": [
    "grid.fit(X_train_scaled, y_train)"
   ]
  },
  {
   "cell_type": "code",
   "execution_count": 50,
   "metadata": {},
   "outputs": [
    {
     "data": {
      "text/plain": [
       "GridSearchCV(estimator=SVC(kernel='linear'),\n",
       "             param_grid={'C': [1, 5, 10], 'gamma': [0.0001, 0.001, 0.01]},\n",
       "             verbose=2)"
      ]
     },
     "execution_count": 50,
     "metadata": {},
     "output_type": "execute_result"
    }
   ],
   "source": [
    "GridSearchCV(estimator=SVC(kernel='linear'),\n",
    "             param_grid={'C': [1, 5, 10], 'gamma': [0.0001, 0.001, 0.01]},\n",
    "             verbose=2)"
   ]
  },
  {
   "cell_type": "code",
   "execution_count": 51,
   "metadata": {},
   "outputs": [
    {
     "name": "stdout",
     "output_type": "stream",
     "text": [
      "{'C': 1, 'gamma': 0.0001}\n",
      "0.8523138832997988\n"
     ]
    }
   ],
   "source": [
    "print(grid.best_params_)\n",
    "print(grid.best_score_)"
   ]
  },
  {
   "cell_type": "code",
   "execution_count": 52,
   "metadata": {},
   "outputs": [
    {
     "name": "stdout",
     "output_type": "stream",
     "text": [
      "[1 1 1 1 1 1 1 1 1 1 1 1 1 1 1 1 1 1 1 1 1 1 1 1 1 1 1 1 1 1 1 1 1 1 1 1 1\n",
      " 1 1 1 1 1 1 1 1 1 1 1 1 1 1 1 1 1 1 1 1 1 1 1 1 1 1 1 1 1 1 1 1 1 1 1 1 1\n",
      " 1 1 1 1 1 1 1 1 1 1 1 1 1 1 1 1 1 1 1 1 1 1 1 1 1 1 1 1 1 1 1 1 1 1 1 1 1\n",
      " 1 1 1 1 1 1 1]\n"
     ]
    }
   ],
   "source": [
    "# Make predictions with the hypertuned model\n",
    "predictions = grid.predict(X_test_scaled)\n",
    "print(predictions)"
   ]
  },
  {
   "cell_type": "code",
   "execution_count": 53,
   "metadata": {},
   "outputs": [
    {
     "data": {
      "text/plain": [
       "0.9174311926605505"
      ]
     },
     "execution_count": 53,
     "metadata": {},
     "output_type": "execute_result"
    }
   ],
   "source": [
    "from sklearn.metrics import classification_report\n",
    "from sklearn import metrics\n",
    "from sklearn.metrics import f1_score\n",
    "metrics.f1_score(y_test, predictions, average='weighted', labels=np.unique(predictions))"
   ]
  },
  {
   "cell_type": "code",
   "execution_count": 54,
   "metadata": {},
   "outputs": [
    {
     "name": "stdout",
     "output_type": "stream",
     "text": [
      "              precision    recall  f1-score   support\n",
      "\n",
      "           T       0.00      0.00      0.00        18\n",
      "           F       0.85      1.00      0.92       100\n",
      "\n",
      "    accuracy                           0.85       118\n",
      "   macro avg       0.42      0.50      0.46       118\n",
      "weighted avg       0.72      0.85      0.78       118\n",
      "\n"
     ]
    },
    {
     "name": "stderr",
     "output_type": "stream",
     "text": [
      "C:\\Users\\petej\\Anaconda3\\lib\\site-packages\\sklearn\\metrics\\_classification.py:1245: UndefinedMetricWarning: Precision and F-score are ill-defined and being set to 0.0 in labels with no predicted samples. Use `zero_division` parameter to control this behavior.\n",
      "  _warn_prf(average, modifier, msg_start, len(result))\n",
      "C:\\Users\\petej\\Anaconda3\\lib\\site-packages\\sklearn\\metrics\\_classification.py:1245: UndefinedMetricWarning: Precision and F-score are ill-defined and being set to 0.0 in labels with no predicted samples. Use `zero_division` parameter to control this behavior.\n",
      "  _warn_prf(average, modifier, msg_start, len(result))\n",
      "C:\\Users\\petej\\Anaconda3\\lib\\site-packages\\sklearn\\metrics\\_classification.py:1245: UndefinedMetricWarning: Precision and F-score are ill-defined and being set to 0.0 in labels with no predicted samples. Use `zero_division` parameter to control this behavior.\n",
      "  _warn_prf(average, modifier, msg_start, len(result))\n"
     ]
    }
   ],
   "source": [
    "print(classification_report(y_test, predictions,\n",
    "                            target_names=[\"T\", \"F\"]))"
   ]
  },
  {
   "cell_type": "markdown",
   "metadata": {},
   "source": [
    "# Pete Visualization"
   ]
  },
  {
   "cell_type": "code",
   "execution_count": 55,
   "metadata": {},
   "outputs": [],
   "source": [
    "pete_df = df.drop(columns = [\"DGN\", \"PRE6\", \"PRE7\", 'PRE8', 'PRE9', 'PRE10', 'PRE11', 'PRE17', 'PRE19',\n",
    "             'PRE25', 'PRE30', 'PRE32'])"
   ]
  },
  {
   "cell_type": "code",
   "execution_count": 56,
   "metadata": {},
   "outputs": [],
   "source": [
    "cleaned_df = pete_df"
   ]
  },
  {
   "cell_type": "code",
   "execution_count": 57,
   "metadata": {},
   "outputs": [
    {
     "data": {
      "text/html": [
       "<div>\n",
       "<style scoped>\n",
       "    .dataframe tbody tr th:only-of-type {\n",
       "        vertical-align: middle;\n",
       "    }\n",
       "\n",
       "    .dataframe tbody tr th {\n",
       "        vertical-align: top;\n",
       "    }\n",
       "\n",
       "    .dataframe thead th {\n",
       "        text-align: right;\n",
       "    }\n",
       "</style>\n",
       "<table border=\"1\" class=\"dataframe\">\n",
       "  <thead>\n",
       "    <tr style=\"text-align: right;\">\n",
       "      <th></th>\n",
       "      <th>PRE4</th>\n",
       "      <th>PRE5</th>\n",
       "      <th>PRE14</th>\n",
       "      <th>AGE</th>\n",
       "      <th>Risk1Yr</th>\n",
       "    </tr>\n",
       "  </thead>\n",
       "  <tbody>\n",
       "    <tr>\n",
       "      <th>0</th>\n",
       "      <td>2.88</td>\n",
       "      <td>2.16</td>\n",
       "      <td>14</td>\n",
       "      <td>60</td>\n",
       "      <td>1</td>\n",
       "    </tr>\n",
       "    <tr>\n",
       "      <th>1</th>\n",
       "      <td>3.40</td>\n",
       "      <td>1.88</td>\n",
       "      <td>12</td>\n",
       "      <td>51</td>\n",
       "      <td>1</td>\n",
       "    </tr>\n",
       "    <tr>\n",
       "      <th>2</th>\n",
       "      <td>2.76</td>\n",
       "      <td>2.08</td>\n",
       "      <td>11</td>\n",
       "      <td>59</td>\n",
       "      <td>1</td>\n",
       "    </tr>\n",
       "    <tr>\n",
       "      <th>3</th>\n",
       "      <td>3.68</td>\n",
       "      <td>3.04</td>\n",
       "      <td>11</td>\n",
       "      <td>54</td>\n",
       "      <td>1</td>\n",
       "    </tr>\n",
       "    <tr>\n",
       "      <th>4</th>\n",
       "      <td>2.44</td>\n",
       "      <td>0.96</td>\n",
       "      <td>11</td>\n",
       "      <td>73</td>\n",
       "      <td>0</td>\n",
       "    </tr>\n",
       "  </tbody>\n",
       "</table>\n",
       "</div>"
      ],
      "text/plain": [
       "   PRE4  PRE5 PRE14  AGE Risk1Yr\n",
       "0  2.88  2.16    14   60       1\n",
       "1  3.40  1.88    12   51       1\n",
       "2  2.76  2.08    11   59       1\n",
       "3  3.68  3.04    11   54       1\n",
       "4  2.44  0.96    11   73       0"
      ]
     },
     "execution_count": 57,
     "metadata": {},
     "output_type": "execute_result"
    }
   ],
   "source": [
    "cleaned_df['PRE14'] = np.where(cleaned_df['PRE14'] == 'OC11', '11', cleaned_df['PRE14'] )\n",
    "cleaned_df['PRE14'] = np.where(cleaned_df['PRE14'] == 'OC12', '12', cleaned_df['PRE14'] )\n",
    "cleaned_df['PRE14'] = np.where(cleaned_df['PRE14'] == 'OC13', '13', cleaned_df['PRE14'] )\n",
    "cleaned_df['PRE14'] = np.where(cleaned_df['PRE14'] == 'OC14', '14', cleaned_df['PRE14'] )\n",
    "cleaned_df['Risk1Yr'] = np.where(cleaned_df['Risk1Yr'] == 'T', '0', cleaned_df['Risk1Yr'] )\n",
    "cleaned_df['Risk1Yr'] = np.where(cleaned_df['Risk1Yr'] == 'F', '1', cleaned_df['Risk1Yr'] )\n",
    "cleaned_df.head()"
   ]
  },
  {
   "cell_type": "code",
   "execution_count": 58,
   "metadata": {},
   "outputs": [],
   "source": [
    "cleaned_df['PRE14'] = cleaned_df['PRE14'].astype(int)"
   ]
  },
  {
   "cell_type": "code",
   "execution_count": 59,
   "metadata": {},
   "outputs": [
    {
     "name": "stderr",
     "output_type": "stream",
     "text": [
      "C:\\Users\\petej\\Anaconda3\\lib\\site-packages\\pandas\\core\\frame.py:4441: SettingWithCopyWarning: \n",
      "A value is trying to be set on a copy of a slice from a DataFrame\n",
      "\n",
      "See the caveats in the documentation: https://pandas.pydata.org/pandas-docs/stable/user_guide/indexing.html#returning-a-view-versus-a-copy\n",
      "  return super().rename(\n"
     ]
    },
    {
     "data": {
      "text/html": [
       "<div>\n",
       "<style scoped>\n",
       "    .dataframe tbody tr th:only-of-type {\n",
       "        vertical-align: middle;\n",
       "    }\n",
       "\n",
       "    .dataframe tbody tr th {\n",
       "        vertical-align: top;\n",
       "    }\n",
       "\n",
       "    .dataframe thead th {\n",
       "        text-align: right;\n",
       "    }\n",
       "</style>\n",
       "<table border=\"1\" class=\"dataframe\">\n",
       "  <thead>\n",
       "    <tr style=\"text-align: right;\">\n",
       "      <th></th>\n",
       "      <th>FVC</th>\n",
       "      <th>FEV</th>\n",
       "      <th>TumorSize</th>\n",
       "      <th>Age</th>\n",
       "    </tr>\n",
       "  </thead>\n",
       "  <tbody>\n",
       "    <tr>\n",
       "      <th>0</th>\n",
       "      <td>2.88</td>\n",
       "      <td>2.16</td>\n",
       "      <td>14</td>\n",
       "      <td>60</td>\n",
       "    </tr>\n",
       "    <tr>\n",
       "      <th>1</th>\n",
       "      <td>3.40</td>\n",
       "      <td>1.88</td>\n",
       "      <td>12</td>\n",
       "      <td>51</td>\n",
       "    </tr>\n",
       "    <tr>\n",
       "      <th>2</th>\n",
       "      <td>2.76</td>\n",
       "      <td>2.08</td>\n",
       "      <td>11</td>\n",
       "      <td>59</td>\n",
       "    </tr>\n",
       "    <tr>\n",
       "      <th>3</th>\n",
       "      <td>3.68</td>\n",
       "      <td>3.04</td>\n",
       "      <td>11</td>\n",
       "      <td>54</td>\n",
       "    </tr>\n",
       "    <tr>\n",
       "      <th>5</th>\n",
       "      <td>2.48</td>\n",
       "      <td>1.88</td>\n",
       "      <td>11</td>\n",
       "      <td>51</td>\n",
       "    </tr>\n",
       "  </tbody>\n",
       "</table>\n",
       "</div>"
      ],
      "text/plain": [
       "    FVC   FEV  TumorSize  Age\n",
       "0  2.88  2.16         14   60\n",
       "1  3.40  1.88         12   51\n",
       "2  2.76  2.08         11   59\n",
       "3  3.68  3.04         11   54\n",
       "5  2.48  1.88         11   51"
      ]
     },
     "execution_count": 59,
     "metadata": {},
     "output_type": "execute_result"
    }
   ],
   "source": [
    "survived_df = cleaned_df[cleaned_df[\"Risk1Yr\"] == '1']\n",
    "survived_df.rename(columns={\"PRE4\": \"FVC\", \"PRE5\": \"FEV\",\n",
    "                  \"PRE14\": \"TumorSize\", \"AGE\": \"Age\"}, inplace=True)\n",
    "survived_df = survived_df.drop(\"Risk1Yr\", axis=1)\n",
    "survived_df.head()"
   ]
  },
  {
   "cell_type": "code",
   "execution_count": 63,
   "metadata": {},
   "outputs": [
    {
     "name": "stdout",
     "output_type": "stream",
     "text": [
      "survivors\n"
     ]
    },
    {
     "data": {
      "text/html": [
       "<div>\n",
       "<style scoped>\n",
       "    .dataframe tbody tr th:only-of-type {\n",
       "        vertical-align: middle;\n",
       "    }\n",
       "\n",
       "    .dataframe tbody tr th {\n",
       "        vertical-align: top;\n",
       "    }\n",
       "\n",
       "    .dataframe thead th {\n",
       "        text-align: right;\n",
       "    }\n",
       "</style>\n",
       "<table border=\"1\" class=\"dataframe\">\n",
       "  <thead>\n",
       "    <tr style=\"text-align: right;\">\n",
       "      <th></th>\n",
       "      <th>FVC</th>\n",
       "      <th>FEV</th>\n",
       "      <th>TumorSize</th>\n",
       "      <th>Age</th>\n",
       "    </tr>\n",
       "  </thead>\n",
       "  <tbody>\n",
       "    <tr>\n",
       "      <th>mean</th>\n",
       "      <td>3.298525</td>\n",
       "      <td>4.779375</td>\n",
       "      <td>11.685</td>\n",
       "      <td>62.3925</td>\n",
       "    </tr>\n",
       "  </tbody>\n",
       "</table>\n",
       "</div>"
      ],
      "text/plain": [
       "           FVC       FEV  TumorSize      Age\n",
       "mean  3.298525  4.779375     11.685  62.3925"
      ]
     },
     "execution_count": 63,
     "metadata": {},
     "output_type": "execute_result"
    }
   ],
   "source": [
    "print(\"Survivors\")\n",
    "survived_df.describe(include='all').loc[['mean']]"
   ]
  },
  {
   "cell_type": "code",
   "execution_count": 61,
   "metadata": {},
   "outputs": [
    {
     "name": "stderr",
     "output_type": "stream",
     "text": [
      "C:\\Users\\petej\\Anaconda3\\lib\\site-packages\\pandas\\core\\frame.py:4441: SettingWithCopyWarning: \n",
      "A value is trying to be set on a copy of a slice from a DataFrame\n",
      "\n",
      "See the caveats in the documentation: https://pandas.pydata.org/pandas-docs/stable/user_guide/indexing.html#returning-a-view-versus-a-copy\n",
      "  return super().rename(\n"
     ]
    },
    {
     "data": {
      "text/html": [
       "<div>\n",
       "<style scoped>\n",
       "    .dataframe tbody tr th:only-of-type {\n",
       "        vertical-align: middle;\n",
       "    }\n",
       "\n",
       "    .dataframe tbody tr th {\n",
       "        vertical-align: top;\n",
       "    }\n",
       "\n",
       "    .dataframe thead th {\n",
       "        text-align: right;\n",
       "    }\n",
       "</style>\n",
       "<table border=\"1\" class=\"dataframe\">\n",
       "  <thead>\n",
       "    <tr style=\"text-align: right;\">\n",
       "      <th></th>\n",
       "      <th>FVC</th>\n",
       "      <th>FEV</th>\n",
       "      <th>TumorSize</th>\n",
       "      <th>Age</th>\n",
       "    </tr>\n",
       "  </thead>\n",
       "  <tbody>\n",
       "    <tr>\n",
       "      <th>4</th>\n",
       "      <td>2.44</td>\n",
       "      <td>0.96</td>\n",
       "      <td>11</td>\n",
       "      <td>73</td>\n",
       "    </tr>\n",
       "    <tr>\n",
       "      <th>6</th>\n",
       "      <td>4.36</td>\n",
       "      <td>3.28</td>\n",
       "      <td>12</td>\n",
       "      <td>59</td>\n",
       "    </tr>\n",
       "    <tr>\n",
       "      <th>7</th>\n",
       "      <td>3.19</td>\n",
       "      <td>2.50</td>\n",
       "      <td>11</td>\n",
       "      <td>66</td>\n",
       "    </tr>\n",
       "    <tr>\n",
       "      <th>13</th>\n",
       "      <td>3.98</td>\n",
       "      <td>3.06</td>\n",
       "      <td>14</td>\n",
       "      <td>80</td>\n",
       "    </tr>\n",
       "    <tr>\n",
       "      <th>24</th>\n",
       "      <td>4.32</td>\n",
       "      <td>3.20</td>\n",
       "      <td>11</td>\n",
       "      <td>58</td>\n",
       "    </tr>\n",
       "  </tbody>\n",
       "</table>\n",
       "</div>"
      ],
      "text/plain": [
       "     FVC   FEV  TumorSize  Age\n",
       "4   2.44  0.96         11   73\n",
       "6   4.36  3.28         12   59\n",
       "7   3.19  2.50         11   66\n",
       "13  3.98  3.06         14   80\n",
       "24  4.32  3.20         11   58"
      ]
     },
     "execution_count": 61,
     "metadata": {},
     "output_type": "execute_result"
    }
   ],
   "source": [
    "notSurvived_df = cleaned_df[cleaned_df[\"Risk1Yr\"] == '0']\n",
    "notSurvived_df.rename(columns={\"PRE4\": \"FVC\", \"PRE5\": \"FEV\",\n",
    "                  \"PRE14\": \"TumorSize\", \"AGE\": \"Age\"}, inplace=True)\n",
    "notSurvived_df = notSurvived_df.drop(\"Risk1Yr\", axis=1)\n",
    "notSurvived_df.head()"
   ]
  },
  {
   "cell_type": "code",
   "execution_count": 64,
   "metadata": {},
   "outputs": [
    {
     "name": "stdout",
     "output_type": "stream",
     "text": [
      "Non-Survivors\n"
     ]
    },
    {
     "data": {
      "text/html": [
       "<div>\n",
       "<style scoped>\n",
       "    .dataframe tbody tr th:only-of-type {\n",
       "        vertical-align: middle;\n",
       "    }\n",
       "\n",
       "    .dataframe tbody tr th {\n",
       "        vertical-align: top;\n",
       "    }\n",
       "\n",
       "    .dataframe thead th {\n",
       "        text-align: right;\n",
       "    }\n",
       "</style>\n",
       "<table border=\"1\" class=\"dataframe\">\n",
       "  <thead>\n",
       "    <tr style=\"text-align: right;\">\n",
       "      <th></th>\n",
       "      <th>FVC</th>\n",
       "      <th>FEV</th>\n",
       "      <th>TumorSize</th>\n",
       "      <th>Age</th>\n",
       "    </tr>\n",
       "  </thead>\n",
       "  <tbody>\n",
       "    <tr>\n",
       "      <th>mean</th>\n",
       "      <td>3.185143</td>\n",
       "      <td>3.364857</td>\n",
       "      <td>12.028571</td>\n",
       "      <td>63.342857</td>\n",
       "    </tr>\n",
       "  </tbody>\n",
       "</table>\n",
       "</div>"
      ],
      "text/plain": [
       "           FVC       FEV  TumorSize        Age\n",
       "mean  3.185143  3.364857  12.028571  63.342857"
      ]
     },
     "execution_count": 64,
     "metadata": {},
     "output_type": "execute_result"
    }
   ],
   "source": [
    "print(\"Non-Survivors\")\n",
    "notSurvived_df.describe(include='all').loc[['mean']]"
   ]
  }
 ],
 "metadata": {
  "kernelspec": {
   "display_name": "Python 3",
   "language": "python",
   "name": "python3"
  },
  "language_info": {
   "codemirror_mode": {
    "name": "ipython",
    "version": 3
   },
   "file_extension": ".py",
   "mimetype": "text/x-python",
   "name": "python",
   "nbconvert_exporter": "python",
   "pygments_lexer": "ipython3",
   "version": "3.8.5"
  }
 },
 "nbformat": 4,
 "nbformat_minor": 5
}
