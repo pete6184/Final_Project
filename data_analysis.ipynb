{
 "cells": [
  {
   "cell_type": "code",
   "execution_count": 1,
   "id": "6358986d",
   "metadata": {},
   "outputs": [],
   "source": [
    "# import dependencies\n",
    "import pandas as pd\n",
    "import matplotlib.pyplot as plt\n",
    "import numpy as np\n",
    "from sklearn.model_selection import train_test_split\n",
    "from sklearn.linear_model import LinearRegression\n",
    "from sklearn.preprocessing import LabelEncoder, MinMaxScaler\n",
    "from sklearn.ensemble import RandomForestClassifier\n",
    "from tensorflow.keras.models import Sequential\n",
    "from tensorflow.keras.layers import Dense\n",
    "from tensorflow.keras.utils import to_categorical"
   ]
  },
  {
   "cell_type": "code",
   "execution_count": 2,
   "id": "f4cda285",
   "metadata": {},
   "outputs": [],
   "source": [
    "# set seed value for the notebook so the results are reproducible\n",
    "from numpy.random import seed\n",
    "seed(1)"
   ]
  },
  {
   "cell_type": "code",
   "execution_count": 3,
   "id": "ac7150f9",
   "metadata": {},
   "outputs": [],
   "source": [
    "# read the csv file into a pandas DataFrame, drop id column\n",
    "df = pd.read_csv(\"Resources/Data/ThoracicSurgery.csv\")\n",
    "df = df.drop(\"id\", axis=1)"
   ]
  },
  {
   "cell_type": "code",
   "execution_count": 4,
   "id": "6e2dde17",
   "metadata": {},
   "outputs": [],
   "source": [
    "# set data for classifier \n",
    "target = df[\"Risk1Yr\"]\n",
    "target_names = [\"T\", \"F\"]\n",
    "data = df.drop(\"Risk1Yr\", axis=1)\n",
    "data = pd.get_dummies(data)\n",
    "feature_names = data.columns"
   ]
  },
  {
   "cell_type": "code",
   "execution_count": 5,
   "id": "447c3b94",
   "metadata": {},
   "outputs": [],
   "source": [
    "# split data into training and testing\n",
    "X_train, X_test, y_train, y_test = train_test_split(\n",
    "    data, target, test_size=0.2, random_state=1)"
   ]
  },
  {
   "cell_type": "code",
   "execution_count": 6,
   "id": "be5ea157",
   "metadata": {},
   "outputs": [
    {
     "data": {
      "text/plain": [
       "0.8617021276595744"
      ]
     },
     "execution_count": 6,
     "metadata": {},
     "output_type": "execute_result"
    }
   ],
   "source": [
    "# create and score random forest classifier\n",
    "rf = RandomForestClassifier(n_estimators=200)\n",
    "rf = rf.fit(X_train, y_train)\n",
    "rf.score(X_test, y_test)"
   ]
  },
  {
   "cell_type": "code",
   "execution_count": 7,
   "id": "bb49a9ef",
   "metadata": {},
   "outputs": [
    {
     "data": {
      "text/plain": [
       "[(0.18112493347465042, 'PRE5'),\n",
       " (0.17134144561789622, 'PRE4'),\n",
       " (0.159356351562549, 'AGE'),\n",
       " (0.03002138278667311, 'DGN_DGN5'),\n",
       " (0.027762292765678532, 'PRE14_OC11'),\n",
       " (0.0267437945513764, 'DGN_DGN3'),\n",
       " (0.025202968373976894, 'PRE14_OC12'),\n",
       " (0.023257866712346614, 'PRE14_OC14'),\n",
       " (0.02244120352880268, 'DGN_DGN2'),\n",
       " (0.02137556421800881, 'PRE11_F'),\n",
       " (0.02055635109184197, 'PRE11_T'),\n",
       " (0.02047555773552332, 'PRE6_PRZ1'),\n",
       " (0.019714743869018902, 'PRE8_T'),\n",
       " (0.01939140105620525, 'PRE17_T'),\n",
       " (0.019262892924332534, 'PRE8_F'),\n",
       " (0.01775123542926093, 'PRE14_OC13'),\n",
       " (0.016005591991755153, 'PRE17_F'),\n",
       " (0.01587028845481526, 'PRE10_F'),\n",
       " (0.015693540981493087, 'PRE7_T'),\n",
       " (0.01523623043631555, 'PRE9_T'),\n",
       " (0.015185140501332177, 'PRE10_T'),\n",
       " (0.015088366391897005, 'PRE6_PRZ0'),\n",
       " (0.013996162206847072, 'PRE7_F'),\n",
       " (0.013863661637729941, 'PRE30_F'),\n",
       " (0.013675864997954838, 'PRE30_T'),\n",
       " (0.013226252982040509, 'PRE9_F'),\n",
       " (0.013160973805714652, 'DGN_DGN4'),\n",
       " (0.010295785950856968, 'DGN_DGN8'),\n",
       " (0.009734544491668303, 'PRE6_PRZ2'),\n",
       " (0.007025810452780239, 'PRE25_T'),\n",
       " (0.004979847123793602, 'PRE25_F'),\n",
       " (0.0003241907606091642, 'PRE19_F'),\n",
       " (0.00028853637429157656, 'DGN_DGN6'),\n",
       " (0.00023537179867021393, 'PRE19_T'),\n",
       " (0.00016172485059850987, 'PRE32_F'),\n",
       " (0.00011798637402334713, 'PRE32_T'),\n",
       " (5.414173667131391e-05, 'DGN_DGN1')]"
      ]
     },
     "execution_count": 7,
     "metadata": {},
     "output_type": "execute_result"
    }
   ],
   "source": [
    "# sort the features by their importance\n",
    "sorted(zip(rf.feature_importances_, feature_names), reverse=True) "
   ]
  },
  {
   "cell_type": "code",
   "execution_count": 8,
   "id": "632a4211",
   "metadata": {},
   "outputs": [],
   "source": [
    "# establish X and y\n",
    "X = data\n",
    "y = target"
   ]
  },
  {
   "cell_type": "code",
   "execution_count": 9,
   "id": "a52691e2",
   "metadata": {},
   "outputs": [],
   "source": [
    "# create train test split\n",
    "X_train, X_test, y_train, y_test = train_test_split(X, y, test_size=0.2, random_state=1, stratify=y)"
   ]
  },
  {
   "cell_type": "code",
   "execution_count": 10,
   "id": "c84e44b3",
   "metadata": {},
   "outputs": [],
   "source": [
    "# scale data\n",
    "X_scaler = MinMaxScaler().fit(X_train)\n",
    "X_train_scaled = X_scaler.transform(X_train)\n",
    "X_test_scaled = X_scaler.transform(X_test)\n",
    "\n",
    "# label-encode target data set\n",
    "label_encoder = LabelEncoder()\n",
    "label_encoder.fit(y_train)\n",
    "encoded_y_train = label_encoder.transform(y_train)\n",
    "encoded_y_test = label_encoder.transform(y_test)\n",
    "\n",
    "# convert encoded labels to one-hot-encoding\n",
    "y_train_categorical = to_categorical(encoded_y_train)\n",
    "y_test_categorical = to_categorical(encoded_y_test)"
   ]
  },
  {
   "cell_type": "code",
   "execution_count": 11,
   "id": "c5adc52a",
   "metadata": {},
   "outputs": [],
   "source": [
    "# create model and add layers\n",
    "model = Sequential()\n",
    "model.add(Dense(units=100, activation='relu', input_dim=37))\n",
    "model.add(Dense(units=100, activation='relu'))\n",
    "model.add(Dense(units=2, activation='softmax'))"
   ]
  },
  {
   "cell_type": "code",
   "execution_count": 12,
   "id": "480b2604",
   "metadata": {},
   "outputs": [
    {
     "name": "stdout",
     "output_type": "stream",
     "text": [
      "Model: \"sequential\"\n",
      "_________________________________________________________________\n",
      "Layer (type)                 Output Shape              Param #   \n",
      "=================================================================\n",
      "dense (Dense)                (None, 100)               3800      \n",
      "_________________________________________________________________\n",
      "dense_1 (Dense)              (None, 100)               10100     \n",
      "_________________________________________________________________\n",
      "dense_2 (Dense)              (None, 2)                 202       \n",
      "=================================================================\n",
      "Total params: 14,102\n",
      "Trainable params: 14,102\n",
      "Non-trainable params: 0\n",
      "_________________________________________________________________\n"
     ]
    }
   ],
   "source": [
    "# compile the model\n",
    "model.compile(optimizer='adam',\n",
    "              loss='categorical_crossentropy',\n",
    "              metrics=['accuracy'])\n",
    "model.summary()"
   ]
  },
  {
   "cell_type": "code",
   "execution_count": 13,
   "id": "0aecbf9d",
   "metadata": {},
   "outputs": [
    {
     "name": "stdout",
     "output_type": "stream",
     "text": [
      "Train on 376 samples\n",
      "Epoch 1/60\n",
      "376/376 - 1s - loss: 0.4867 - accuracy: 0.7926\n",
      "Epoch 2/60\n",
      "376/376 - 0s - loss: 0.4326 - accuracy: 0.8511\n",
      "Epoch 3/60\n",
      "376/376 - 0s - loss: 0.4154 - accuracy: 0.8511\n",
      "Epoch 4/60\n",
      "376/376 - 0s - loss: 0.4021 - accuracy: 0.8511\n",
      "Epoch 5/60\n",
      "376/376 - 0s - loss: 0.3908 - accuracy: 0.8511\n",
      "Epoch 6/60\n",
      "376/376 - 0s - loss: 0.3832 - accuracy: 0.8511\n",
      "Epoch 7/60\n",
      "376/376 - 0s - loss: 0.3730 - accuracy: 0.8511\n",
      "Epoch 8/60\n",
      "376/376 - 0s - loss: 0.3737 - accuracy: 0.8511\n",
      "Epoch 9/60\n",
      "376/376 - 0s - loss: 0.3654 - accuracy: 0.8511\n",
      "Epoch 10/60\n",
      "376/376 - 0s - loss: 0.3537 - accuracy: 0.8564\n",
      "Epoch 11/60\n",
      "376/376 - 0s - loss: 0.3458 - accuracy: 0.8564\n",
      "Epoch 12/60\n",
      "376/376 - 0s - loss: 0.3424 - accuracy: 0.8590\n",
      "Epoch 13/60\n",
      "376/376 - 0s - loss: 0.3353 - accuracy: 0.8750\n",
      "Epoch 14/60\n",
      "376/376 - 0s - loss: 0.3273 - accuracy: 0.8803\n",
      "Epoch 15/60\n",
      "376/376 - 0s - loss: 0.3208 - accuracy: 0.8723\n",
      "Epoch 16/60\n",
      "376/376 - 0s - loss: 0.3114 - accuracy: 0.8910\n",
      "Epoch 17/60\n",
      "376/376 - 0s - loss: 0.3028 - accuracy: 0.8910\n",
      "Epoch 18/60\n",
      "376/376 - 0s - loss: 0.2981 - accuracy: 0.8830\n",
      "Epoch 19/60\n",
      "376/376 - 0s - loss: 0.2914 - accuracy: 0.9043\n",
      "Epoch 20/60\n",
      "376/376 - 0s - loss: 0.2815 - accuracy: 0.8963\n",
      "Epoch 21/60\n",
      "376/376 - 0s - loss: 0.2772 - accuracy: 0.8989\n",
      "Epoch 22/60\n",
      "376/376 - 0s - loss: 0.2795 - accuracy: 0.9096\n",
      "Epoch 23/60\n",
      "376/376 - 0s - loss: 0.2675 - accuracy: 0.9043\n",
      "Epoch 24/60\n",
      "376/376 - 0s - loss: 0.2656 - accuracy: 0.9016\n",
      "Epoch 25/60\n",
      "376/376 - 0s - loss: 0.2696 - accuracy: 0.9149\n",
      "Epoch 26/60\n",
      "376/376 - 0s - loss: 0.2500 - accuracy: 0.9096\n",
      "Epoch 27/60\n",
      "376/376 - 0s - loss: 0.2559 - accuracy: 0.9149\n",
      "Epoch 28/60\n",
      "376/376 - 0s - loss: 0.2417 - accuracy: 0.9149\n",
      "Epoch 29/60\n",
      "376/376 - 0s - loss: 0.2334 - accuracy: 0.9202\n",
      "Epoch 30/60\n",
      "376/376 - 0s - loss: 0.2297 - accuracy: 0.9202\n",
      "Epoch 31/60\n",
      "376/376 - 0s - loss: 0.2270 - accuracy: 0.9202\n",
      "Epoch 32/60\n",
      "376/376 - 0s - loss: 0.2260 - accuracy: 0.9202\n",
      "Epoch 33/60\n",
      "376/376 - 0s - loss: 0.2291 - accuracy: 0.9176\n",
      "Epoch 34/60\n",
      "376/376 - 0s - loss: 0.2168 - accuracy: 0.9255\n",
      "Epoch 35/60\n",
      "376/376 - 0s - loss: 0.2160 - accuracy: 0.9202\n",
      "Epoch 36/60\n",
      "376/376 - 0s - loss: 0.2167 - accuracy: 0.9202\n",
      "Epoch 37/60\n",
      "376/376 - 0s - loss: 0.2093 - accuracy: 0.9255\n",
      "Epoch 38/60\n",
      "376/376 - 0s - loss: 0.2087 - accuracy: 0.9282\n",
      "Epoch 39/60\n",
      "376/376 - 0s - loss: 0.2005 - accuracy: 0.9229\n",
      "Epoch 40/60\n",
      "376/376 - 0s - loss: 0.1981 - accuracy: 0.9202\n",
      "Epoch 41/60\n",
      "376/376 - 0s - loss: 0.1989 - accuracy: 0.9255\n",
      "Epoch 42/60\n",
      "376/376 - 0s - loss: 0.2010 - accuracy: 0.9229\n",
      "Epoch 43/60\n",
      "376/376 - 0s - loss: 0.2062 - accuracy: 0.9202\n",
      "Epoch 44/60\n",
      "376/376 - 0s - loss: 0.1915 - accuracy: 0.9309\n",
      "Epoch 45/60\n",
      "376/376 - 0s - loss: 0.2012 - accuracy: 0.9282\n",
      "Epoch 46/60\n",
      "376/376 - 0s - loss: 0.1841 - accuracy: 0.9255\n",
      "Epoch 47/60\n",
      "376/376 - 0s - loss: 0.1842 - accuracy: 0.9282\n",
      "Epoch 48/60\n",
      "376/376 - 0s - loss: 0.1875 - accuracy: 0.9309\n",
      "Epoch 49/60\n",
      "376/376 - 0s - loss: 0.1783 - accuracy: 0.9282\n",
      "Epoch 50/60\n",
      "376/376 - 0s - loss: 0.1789 - accuracy: 0.9388\n",
      "Epoch 51/60\n",
      "376/376 - 0s - loss: 0.1740 - accuracy: 0.9362\n",
      "Epoch 52/60\n",
      "376/376 - 0s - loss: 0.1720 - accuracy: 0.9362\n",
      "Epoch 53/60\n",
      "376/376 - 0s - loss: 0.1836 - accuracy: 0.9202\n",
      "Epoch 54/60\n",
      "376/376 - 0s - loss: 0.2006 - accuracy: 0.9202\n",
      "Epoch 55/60\n",
      "376/376 - 0s - loss: 0.1823 - accuracy: 0.9309\n",
      "Epoch 56/60\n",
      "376/376 - 0s - loss: 0.1724 - accuracy: 0.9362\n",
      "Epoch 57/60\n",
      "376/376 - 0s - loss: 0.1720 - accuracy: 0.9362\n",
      "Epoch 58/60\n",
      "376/376 - 0s - loss: 0.1808 - accuracy: 0.9282\n",
      "Epoch 59/60\n",
      "376/376 - 0s - loss: 0.1603 - accuracy: 0.9388\n",
      "Epoch 60/60\n",
      "376/376 - 0s - loss: 0.1753 - accuracy: 0.9335\n"
     ]
    },
    {
     "data": {
      "text/plain": [
       "<tensorflow.python.keras.callbacks.History at 0x7fb6231e1518>"
      ]
     },
     "execution_count": 13,
     "metadata": {},
     "output_type": "execute_result"
    }
   ],
   "source": [
    "# fit (train) the model\n",
    "model.fit(\n",
    "    X_train_scaled,\n",
    "    y_train_categorical,\n",
    "    epochs=60,\n",
    "    shuffle=True,\n",
    "    verbose=2\n",
    ")"
   ]
  },
  {
   "cell_type": "code",
   "execution_count": 14,
   "id": "680e6ae3",
   "metadata": {},
   "outputs": [
    {
     "name": "stdout",
     "output_type": "stream",
     "text": [
      "94/1 - 0s - loss: 0.6239 - accuracy: 0.8191\n",
      "Normal Neural Network - Loss: 0.6432622975491463, Accuracy: 0.8191489577293396\n"
     ]
    }
   ],
   "source": [
    "# evaluate the model using the testing data\n",
    "model_loss, model_accuracy = model.evaluate(\n",
    "    X_test_scaled, y_test_categorical, verbose=2)\n",
    "print(\n",
    "    f\"Normal Neural Network - Loss: {model_loss}, Accuracy: {model_accuracy}\")"
   ]
  },
  {
   "cell_type": "code",
   "execution_count": 15,
   "id": "ed65aa65",
   "metadata": {},
   "outputs": [
    {
     "name": "stdout",
     "output_type": "stream",
     "text": [
      "Predicted classes: ['F' 'F' 'T' 'F' 'F']\n",
      "Actual Labels: ['F', 'F', 'F', 'F', 'F']\n"
     ]
    }
   ],
   "source": [
    "#  make predictions\n",
    "encoded_predictions = model.predict_classes(X_test_scaled[:5])\n",
    "prediction_labels = label_encoder.inverse_transform(encoded_predictions)\n",
    "print(f\"Predicted classes: {prediction_labels}\")\n",
    "print(f\"Actual Labels: {list(y_test[:5])}\")"
   ]
  },
  {
   "cell_type": "code",
   "execution_count": 16,
   "id": "7bf8ff6f",
   "metadata": {},
   "outputs": [],
   "source": [
    "# create the SVC Model\n",
    "from sklearn.svm import SVC \n",
    "\n",
    "model = SVC(kernel='linear')"
   ]
  },
  {
   "cell_type": "code",
   "execution_count": 17,
   "id": "c7fe3264",
   "metadata": {},
   "outputs": [
    {
     "data": {
      "text/plain": [
       "SVC(kernel='linear')"
      ]
     },
     "execution_count": 17,
     "metadata": {},
     "output_type": "execute_result"
    }
   ],
   "source": [
    "SVC(kernel='linear')"
   ]
  },
  {
   "cell_type": "code",
   "execution_count": 18,
   "id": "e0bcf6f7",
   "metadata": {},
   "outputs": [],
   "source": [
    "# create the GridSearch estimator along with a parameter object containing the values to adjust\n",
    "from sklearn.model_selection import GridSearchCV\n",
    "\n",
    "param_grid = {'C': [1, 5, 10, 50],\n",
    "              'gamma': [0.0001, 0.0005, 0.001, 0.005]}\n",
    "grid = GridSearchCV(model, param_grid, verbose=3)"
   ]
  },
  {
   "cell_type": "code",
   "execution_count": 19,
   "id": "c818ce9f",
   "metadata": {},
   "outputs": [
    {
     "name": "stdout",
     "output_type": "stream",
     "text": [
      "Fitting 5 folds for each of 16 candidates, totalling 80 fits\n",
      "[CV 1/5] END ..............................C=1, gamma=0.0001; total time=   0.0s\n",
      "[CV 2/5] END ..............................C=1, gamma=0.0001; total time=   0.0s\n",
      "[CV 3/5] END ..............................C=1, gamma=0.0001; total time=   0.0s\n",
      "[CV 4/5] END ..............................C=1, gamma=0.0001; total time=   0.0s\n",
      "[CV 5/5] END ..............................C=1, gamma=0.0001; total time=   0.0s\n",
      "[CV 1/5] END ..............................C=1, gamma=0.0005; total time=   0.0s\n",
      "[CV 2/5] END ..............................C=1, gamma=0.0005; total time=   0.0s\n",
      "[CV 3/5] END ..............................C=1, gamma=0.0005; total time=   0.0s\n",
      "[CV 4/5] END ..............................C=1, gamma=0.0005; total time=   0.0s\n",
      "[CV 5/5] END ..............................C=1, gamma=0.0005; total time=   0.0s\n",
      "[CV 1/5] END ...............................C=1, gamma=0.001; total time=   0.0s\n",
      "[CV 2/5] END ...............................C=1, gamma=0.001; total time=   0.0s\n",
      "[CV 3/5] END ...............................C=1, gamma=0.001; total time=   0.0s\n",
      "[CV 4/5] END ...............................C=1, gamma=0.001; total time=   0.0s\n",
      "[CV 5/5] END ...............................C=1, gamma=0.001; total time=   0.0s\n",
      "[CV 1/5] END ...............................C=1, gamma=0.005; total time=   0.0s\n",
      "[CV 2/5] END ...............................C=1, gamma=0.005; total time=   0.0s\n",
      "[CV 3/5] END ...............................C=1, gamma=0.005; total time=   0.0s\n",
      "[CV 4/5] END ...............................C=1, gamma=0.005; total time=   0.0s\n",
      "[CV 5/5] END ...............................C=1, gamma=0.005; total time=   0.0s\n",
      "[CV 1/5] END ..............................C=5, gamma=0.0001; total time=   0.0s\n",
      "[CV 2/5] END ..............................C=5, gamma=0.0001; total time=   0.0s\n",
      "[CV 3/5] END ..............................C=5, gamma=0.0001; total time=   0.0s\n",
      "[CV 4/5] END ..............................C=5, gamma=0.0001; total time=   0.0s\n",
      "[CV 5/5] END ..............................C=5, gamma=0.0001; total time=   0.0s\n",
      "[CV 1/5] END ..............................C=5, gamma=0.0005; total time=   0.0s\n",
      "[CV 2/5] END ..............................C=5, gamma=0.0005; total time=   0.0s\n",
      "[CV 3/5] END ..............................C=5, gamma=0.0005; total time=   0.0s\n",
      "[CV 4/5] END ..............................C=5, gamma=0.0005; total time=   0.0s\n",
      "[CV 5/5] END ..............................C=5, gamma=0.0005; total time=   0.0s\n",
      "[CV 1/5] END ...............................C=5, gamma=0.001; total time=   0.0s\n",
      "[CV 2/5] END ...............................C=5, gamma=0.001; total time=   0.0s\n",
      "[CV 3/5] END ...............................C=5, gamma=0.001; total time=   0.0s\n",
      "[CV 4/5] END ...............................C=5, gamma=0.001; total time=   0.0s\n",
      "[CV 5/5] END ...............................C=5, gamma=0.001; total time=   0.0s\n",
      "[CV 1/5] END ...............................C=5, gamma=0.005; total time=   0.0s\n",
      "[CV 2/5] END ...............................C=5, gamma=0.005; total time=   0.0s\n",
      "[CV 3/5] END ...............................C=5, gamma=0.005; total time=   0.0s\n",
      "[CV 4/5] END ...............................C=5, gamma=0.005; total time=   0.0s\n",
      "[CV 5/5] END ...............................C=5, gamma=0.005; total time=   0.0s\n",
      "[CV 1/5] END .............................C=10, gamma=0.0001; total time=   0.0s\n",
      "[CV 2/5] END .............................C=10, gamma=0.0001; total time=   0.0s\n",
      "[CV 3/5] END .............................C=10, gamma=0.0001; total time=   0.0s\n",
      "[CV 4/5] END .............................C=10, gamma=0.0001; total time=   0.0s\n",
      "[CV 5/5] END .............................C=10, gamma=0.0001; total time=   0.0s\n",
      "[CV 1/5] END .............................C=10, gamma=0.0005; total time=   0.0s\n",
      "[CV 2/5] END .............................C=10, gamma=0.0005; total time=   0.0s\n",
      "[CV 3/5] END .............................C=10, gamma=0.0005; total time=   0.0s\n",
      "[CV 4/5] END .............................C=10, gamma=0.0005; total time=   0.0s\n",
      "[CV 5/5] END .............................C=10, gamma=0.0005; total time=   0.0s\n",
      "[CV 1/5] END ..............................C=10, gamma=0.001; total time=   0.0s\n",
      "[CV 2/5] END ..............................C=10, gamma=0.001; total time=   0.0s\n",
      "[CV 3/5] END ..............................C=10, gamma=0.001; total time=   0.0s\n",
      "[CV 4/5] END ..............................C=10, gamma=0.001; total time=   0.0s\n",
      "[CV 5/5] END ..............................C=10, gamma=0.001; total time=   0.0s\n",
      "[CV 1/5] END ..............................C=10, gamma=0.005; total time=   0.0s\n",
      "[CV 2/5] END ..............................C=10, gamma=0.005; total time=   0.0s\n",
      "[CV 3/5] END ..............................C=10, gamma=0.005; total time=   0.0s\n",
      "[CV 4/5] END ..............................C=10, gamma=0.005; total time=   0.0s\n",
      "[CV 5/5] END ..............................C=10, gamma=0.005; total time=   0.0s\n",
      "[CV 1/5] END .............................C=50, gamma=0.0001; total time=   0.1s\n",
      "[CV 2/5] END .............................C=50, gamma=0.0001; total time=   0.2s\n",
      "[CV 3/5] END .............................C=50, gamma=0.0001; total time=   0.2s\n",
      "[CV 4/5] END .............................C=50, gamma=0.0001; total time=   0.0s\n",
      "[CV 5/5] END .............................C=50, gamma=0.0001; total time=   0.2s\n",
      "[CV 1/5] END .............................C=50, gamma=0.0005; total time=   0.1s\n",
      "[CV 2/5] END .............................C=50, gamma=0.0005; total time=   0.2s\n",
      "[CV 3/5] END .............................C=50, gamma=0.0005; total time=   0.2s\n",
      "[CV 4/5] END .............................C=50, gamma=0.0005; total time=   0.0s\n",
      "[CV 5/5] END .............................C=50, gamma=0.0005; total time=   0.1s\n",
      "[CV 1/5] END ..............................C=50, gamma=0.001; total time=   0.1s\n",
      "[CV 2/5] END ..............................C=50, gamma=0.001; total time=   0.2s\n",
      "[CV 3/5] END ..............................C=50, gamma=0.001; total time=   0.2s\n",
      "[CV 4/5] END ..............................C=50, gamma=0.001; total time=   0.0s\n",
      "[CV 5/5] END ..............................C=50, gamma=0.001; total time=   0.1s\n",
      "[CV 1/5] END ..............................C=50, gamma=0.005; total time=   0.1s\n",
      "[CV 2/5] END ..............................C=50, gamma=0.005; total time=   0.2s\n",
      "[CV 3/5] END ..............................C=50, gamma=0.005; total time=   0.2s\n",
      "[CV 4/5] END ..............................C=50, gamma=0.005; total time=   0.0s\n",
      "[CV 5/5] END ..............................C=50, gamma=0.005; total time=   0.1s\n"
     ]
    },
    {
     "data": {
      "text/plain": [
       "GridSearchCV(estimator=SVC(kernel='linear'),\n",
       "             param_grid={'C': [1, 5, 10, 50],\n",
       "                         'gamma': [0.0001, 0.0005, 0.001, 0.005]},\n",
       "             verbose=3)"
      ]
     },
     "execution_count": 19,
     "metadata": {},
     "output_type": "execute_result"
    }
   ],
   "source": [
    "# train the model with GridSearch\n",
    "grid.fit(X_train_scaled, y_train)"
   ]
  },
  {
   "cell_type": "code",
   "execution_count": 20,
   "id": "0b4f7711",
   "metadata": {},
   "outputs": [
    {
     "name": "stdout",
     "output_type": "stream",
     "text": [
      "{'C': 5, 'gamma': 0.0001}\n",
      "0.8510877192982456\n"
     ]
    }
   ],
   "source": [
    " # fit the model using the grid search estimator \n",
    "GridSearchCV(estimator=SVC(kernel='linear'),\n",
    "             param_grid={'C': [1, 5, 10], 'gamma': [0.0001, 0.001, 0.01]},\n",
    "             verbose=2)\n",
    " # list the best parameters, score for this dataset\n",
    "print(grid.best_params_)\n",
    "print(grid.best_score_)"
   ]
  },
  {
   "cell_type": "code",
   "execution_count": 21,
   "id": "ffe27230",
   "metadata": {},
   "outputs": [
    {
     "name": "stdout",
     "output_type": "stream",
     "text": [
      "['F' 'F' 'T' 'F' 'F' 'F' 'T' 'F' 'F' 'F' 'F' 'F' 'F' 'F' 'F' 'F' 'F' 'F'\n",
      " 'F' 'F' 'F' 'F' 'F' 'F' 'F' 'T' 'F' 'F' 'F' 'F' 'F' 'F' 'F' 'F' 'F' 'F'\n",
      " 'F' 'F' 'F' 'F' 'F' 'F' 'F' 'F' 'F' 'F' 'F' 'F' 'F' 'F' 'F' 'F' 'F' 'F'\n",
      " 'F' 'F' 'F' 'F' 'F' 'F' 'F' 'F' 'F' 'T' 'T' 'F' 'F' 'F' 'F' 'F' 'F' 'F'\n",
      " 'F' 'F' 'F' 'F' 'F' 'F' 'F' 'F' 'F' 'F' 'F' 'F' 'F' 'T' 'F' 'F' 'F' 'F'\n",
      " 'F' 'F' 'F' 'F']\n"
     ]
    }
   ],
   "source": [
    "# make predictions with hypertuned model\n",
    "predictions = grid.predict(X_test_scaled)\n",
    "print(predictions)"
   ]
  },
  {
   "cell_type": "code",
   "execution_count": 22,
   "id": "5d26970d",
   "metadata": {},
   "outputs": [
    {
     "name": "stdout",
     "output_type": "stream",
     "text": [
      "Test Acc: 0.830\n"
     ]
    }
   ],
   "source": [
    "# list the best score\n",
    "print('Test Acc: %.3f' % grid.score(X_test_scaled, y_test))"
   ]
  },
  {
   "cell_type": "code",
   "execution_count": 23,
   "id": "44074a71",
   "metadata": {},
   "outputs": [
    {
     "data": {
      "text/plain": [
       "0.7997973657548125"
      ]
     },
     "execution_count": 23,
     "metadata": {},
     "output_type": "execute_result"
    }
   ],
   "source": [
    "# f1 score\n",
    "from sklearn.metrics import classification_report\n",
    "from sklearn import metrics\n",
    "from sklearn.metrics import f1_score\n",
    "metrics.f1_score(y_test, predictions, average='weighted', labels=np.unique(predictions))"
   ]
  },
  {
   "cell_type": "code",
   "execution_count": 24,
   "id": "0f11e075",
   "metadata": {},
   "outputs": [
    {
     "name": "stdout",
     "output_type": "stream",
     "text": [
      "              precision    recall  f1-score   support\n",
      "\n",
      "           T       0.86      0.95      0.90        80\n",
      "           F       0.33      0.14      0.20        14\n",
      "\n",
      "    accuracy                           0.83        94\n",
      "   macro avg       0.60      0.55      0.55        94\n",
      "weighted avg       0.78      0.83      0.80        94\n",
      "\n"
     ]
    }
   ],
   "source": [
    "# calculate classification report\n",
    "print(classification_report(y_test, predictions,\n",
    "                            target_names=[\"T\", \"F\"]))"
   ]
  },
  {
   "cell_type": "markdown",
   "id": "13219990",
   "metadata": {},
   "source": [
    "# Data Attributes for use in JavaScript"
   ]
  },
  {
   "cell_type": "code",
   "execution_count": 25,
   "id": "b954ea3f",
   "metadata": {},
   "outputs": [
    {
     "data": {
      "text/html": [
       "<div>\n",
       "<style scoped>\n",
       "    .dataframe tbody tr th:only-of-type {\n",
       "        vertical-align: middle;\n",
       "    }\n",
       "\n",
       "    .dataframe tbody tr th {\n",
       "        vertical-align: top;\n",
       "    }\n",
       "\n",
       "    .dataframe thead th {\n",
       "        text-align: right;\n",
       "    }\n",
       "</style>\n",
       "<table border=\"1\" class=\"dataframe\">\n",
       "  <thead>\n",
       "    <tr style=\"text-align: right;\">\n",
       "      <th></th>\n",
       "      <th>DGN</th>\n",
       "      <th>PRE4</th>\n",
       "      <th>PRE5</th>\n",
       "      <th>PRE6</th>\n",
       "      <th>PRE7</th>\n",
       "      <th>PRE8</th>\n",
       "      <th>PRE9</th>\n",
       "      <th>PRE10</th>\n",
       "      <th>PRE11</th>\n",
       "      <th>PRE14</th>\n",
       "      <th>PRE17</th>\n",
       "      <th>PRE19</th>\n",
       "      <th>PRE25</th>\n",
       "      <th>PRE30</th>\n",
       "      <th>PRE32</th>\n",
       "      <th>AGE</th>\n",
       "      <th>Risk1Yr</th>\n",
       "    </tr>\n",
       "  </thead>\n",
       "  <tbody>\n",
       "    <tr>\n",
       "      <th>0</th>\n",
       "      <td>DGN2</td>\n",
       "      <td>2.88</td>\n",
       "      <td>2.16</td>\n",
       "      <td>PRZ1</td>\n",
       "      <td>F</td>\n",
       "      <td>F</td>\n",
       "      <td>F</td>\n",
       "      <td>T</td>\n",
       "      <td>T</td>\n",
       "      <td>OC14</td>\n",
       "      <td>F</td>\n",
       "      <td>F</td>\n",
       "      <td>F</td>\n",
       "      <td>T</td>\n",
       "      <td>F</td>\n",
       "      <td>60</td>\n",
       "      <td>F</td>\n",
       "    </tr>\n",
       "    <tr>\n",
       "      <th>1</th>\n",
       "      <td>DGN3</td>\n",
       "      <td>3.40</td>\n",
       "      <td>1.88</td>\n",
       "      <td>PRZ0</td>\n",
       "      <td>F</td>\n",
       "      <td>F</td>\n",
       "      <td>F</td>\n",
       "      <td>F</td>\n",
       "      <td>F</td>\n",
       "      <td>OC12</td>\n",
       "      <td>F</td>\n",
       "      <td>F</td>\n",
       "      <td>F</td>\n",
       "      <td>T</td>\n",
       "      <td>F</td>\n",
       "      <td>51</td>\n",
       "      <td>F</td>\n",
       "    </tr>\n",
       "    <tr>\n",
       "      <th>2</th>\n",
       "      <td>DGN3</td>\n",
       "      <td>2.76</td>\n",
       "      <td>2.08</td>\n",
       "      <td>PRZ1</td>\n",
       "      <td>F</td>\n",
       "      <td>F</td>\n",
       "      <td>F</td>\n",
       "      <td>T</td>\n",
       "      <td>F</td>\n",
       "      <td>OC11</td>\n",
       "      <td>F</td>\n",
       "      <td>F</td>\n",
       "      <td>F</td>\n",
       "      <td>T</td>\n",
       "      <td>F</td>\n",
       "      <td>59</td>\n",
       "      <td>F</td>\n",
       "    </tr>\n",
       "    <tr>\n",
       "      <th>3</th>\n",
       "      <td>DGN3</td>\n",
       "      <td>3.68</td>\n",
       "      <td>3.04</td>\n",
       "      <td>PRZ0</td>\n",
       "      <td>F</td>\n",
       "      <td>F</td>\n",
       "      <td>F</td>\n",
       "      <td>F</td>\n",
       "      <td>F</td>\n",
       "      <td>OC11</td>\n",
       "      <td>F</td>\n",
       "      <td>F</td>\n",
       "      <td>F</td>\n",
       "      <td>F</td>\n",
       "      <td>F</td>\n",
       "      <td>54</td>\n",
       "      <td>F</td>\n",
       "    </tr>\n",
       "    <tr>\n",
       "      <th>4</th>\n",
       "      <td>DGN3</td>\n",
       "      <td>2.44</td>\n",
       "      <td>0.96</td>\n",
       "      <td>PRZ2</td>\n",
       "      <td>F</td>\n",
       "      <td>T</td>\n",
       "      <td>F</td>\n",
       "      <td>T</td>\n",
       "      <td>T</td>\n",
       "      <td>OC11</td>\n",
       "      <td>F</td>\n",
       "      <td>F</td>\n",
       "      <td>F</td>\n",
       "      <td>T</td>\n",
       "      <td>F</td>\n",
       "      <td>73</td>\n",
       "      <td>T</td>\n",
       "    </tr>\n",
       "  </tbody>\n",
       "</table>\n",
       "</div>"
      ],
      "text/plain": [
       "    DGN  PRE4  PRE5  PRE6 PRE7 PRE8 PRE9 PRE10 PRE11 PRE14 PRE17 PRE19 PRE25  \\\n",
       "0  DGN2  2.88  2.16  PRZ1    F    F    F     T     T  OC14     F     F     F   \n",
       "1  DGN3  3.40  1.88  PRZ0    F    F    F     F     F  OC12     F     F     F   \n",
       "2  DGN3  2.76  2.08  PRZ1    F    F    F     T     F  OC11     F     F     F   \n",
       "3  DGN3  3.68  3.04  PRZ0    F    F    F     F     F  OC11     F     F     F   \n",
       "4  DGN3  2.44  0.96  PRZ2    F    T    F     T     T  OC11     F     F     F   \n",
       "\n",
       "  PRE30 PRE32  AGE Risk1Yr  \n",
       "0     T     F   60       F  \n",
       "1     T     F   51       F  \n",
       "2     T     F   59       F  \n",
       "3     F     F   54       F  \n",
       "4     T     F   73       T  "
      ]
     },
     "execution_count": 25,
     "metadata": {},
     "output_type": "execute_result"
    }
   ],
   "source": [
    "new_df = df[['DGN', 'PRE4', 'PRE5', 'PRE6', 'PRE7', 'PRE8', 'PRE9', 'PRE10', 'PRE11', 'PRE14', 'PRE17', 'PRE19', 'PRE25', 'PRE30', 'PRE32', 'AGE', 'Risk1Yr']]\n",
    "new_df.head()"
   ]
  },
  {
   "cell_type": "code",
   "execution_count": 26,
   "id": "702be3e6",
   "metadata": {},
   "outputs": [],
   "source": [
    "columns = [\"DGN\", \"PRE4\", \"PRE5\", \"PRE6\", \"PRE7\", \"PRE8\", \"PRE9\", \"PRE10\", \"PRE11\", \"PRE14\", \"PRE17\", \"PRE19\", \"PRE25\", \"PRE30\", \"PRE32\", \"AGE\", \"Risk1Yr\"]\n",
    "lived_df = new_df.loc[new_df[\"Risk1Yr\"] == \"F\", columns ]"
   ]
  },
  {
   "cell_type": "code",
   "execution_count": 27,
   "id": "7f895429",
   "metadata": {},
   "outputs": [
    {
     "name": "stdout",
     "output_type": "stream",
     "text": [
      "F    376\n",
      "T     24\n",
      "Name: PRE7, dtype: int64\n",
      "-------------------------\n",
      "F    346\n",
      "T     54\n",
      "Name: PRE8, dtype: int64\n",
      "-------------------------\n",
      "F    378\n",
      "T     22\n",
      "Name: PRE9, dtype: int64\n",
      "-------------------------\n",
      "T    268\n",
      "F    132\n",
      "Name: PRE10, dtype: int64\n",
      "-------------------------\n",
      "F    339\n",
      "T     61\n",
      "Name: PRE11, dtype: int64\n",
      "-------------------------\n",
      "OC12    218\n",
      "OC11    159\n",
      "OC13     13\n",
      "OC14     10\n",
      "Name: PRE14, dtype: int64\n",
      "-------------------------\n",
      "F    375\n",
      "T     25\n",
      "Name: PRE17, dtype: int64\n",
      "-------------------------\n",
      "F    398\n",
      "T      2\n",
      "Name: PRE19, dtype: int64\n",
      "-------------------------\n",
      "F    394\n",
      "T      6\n",
      "Name: PRE25, dtype: int64\n",
      "-------------------------\n",
      "T    323\n",
      "F     77\n",
      "Name: PRE30, dtype: int64\n",
      "-------------------------\n",
      "F    398\n",
      "T      2\n",
      "Name: PRE32, dtype: int64\n"
     ]
    }
   ],
   "source": [
    "# counts\n",
    "pre7_df = lived_df[\"PRE7\"].value_counts()\n",
    "pre8_df = lived_df[\"PRE8\"].value_counts()\n",
    "pre9_df = lived_df[\"PRE9\"].value_counts()\n",
    "pre10_df = lived_df[\"PRE10\"].value_counts()\n",
    "pre11_df = lived_df[\"PRE11\"].value_counts()\n",
    "pre14_df = lived_df[\"PRE14\"].value_counts()\n",
    "pre17_df = lived_df[\"PRE17\"].value_counts()\n",
    "pre19_df = lived_df[\"PRE19\"].value_counts()\n",
    "pre25_df = lived_df[\"PRE25\"].value_counts()\n",
    "pre30_df = lived_df[\"PRE30\"].value_counts()\n",
    "pre32_df = lived_df[\"PRE32\"].value_counts()\n",
    "\n",
    "print(pre7_df)\n",
    "print(f\"-------------------------\")\n",
    "print(pre8_df)\n",
    "print(f\"-------------------------\")\n",
    "print(pre9_df)\n",
    "print(f\"-------------------------\")\n",
    "print(pre10_df)\n",
    "print(f\"-------------------------\")\n",
    "print(pre11_df)\n",
    "print(f\"-------------------------\")\n",
    "print(pre14_df)\n",
    "print(f\"-------------------------\")\n",
    "print(pre17_df)\n",
    "print(f\"-------------------------\")\n",
    "print(pre19_df)\n",
    "print(f\"-------------------------\")\n",
    "print(pre25_df)\n",
    "print(f\"-------------------------\")\n",
    "print(pre30_df)\n",
    "print(f\"-------------------------\")\n",
    "print(pre32_df)"
   ]
  },
  {
   "cell_type": "code",
   "execution_count": 28,
   "id": "dc94b3dc",
   "metadata": {},
   "outputs": [
    {
     "data": {
      "text/plain": [
       "DGN3    306\n",
       "DGN4     40\n",
       "DGN2     40\n",
       "DGN5      8\n",
       "DGN6      4\n",
       "DGN8      1\n",
       "DGN1      1\n",
       "Name: DGN, dtype: int64"
      ]
     },
     "execution_count": 28,
     "metadata": {},
     "output_type": "execute_result"
    }
   ],
   "source": [
    "DGN_df = lived_df[\"DGN\"].value_counts()\n",
    "DGN_df"
   ]
  },
  {
   "cell_type": "markdown",
   "id": "e7c53a8a",
   "metadata": {},
   "source": [
    "# PRE, AGE, Risk1Yr Visualization"
   ]
  },
  {
   "cell_type": "code",
   "execution_count": 29,
   "id": "faa6ce64",
   "metadata": {},
   "outputs": [],
   "source": [
    "clean_df = df.drop(columns = [\"DGN\", \"PRE6\", \"PRE7\", 'PRE8', 'PRE9', 'PRE10', 'PRE11', 'PRE17', 'PRE19',\n",
    "             'PRE25', 'PRE30', 'PRE32'])"
   ]
  },
  {
   "cell_type": "code",
   "execution_count": 30,
   "id": "f7ddcd23",
   "metadata": {},
   "outputs": [
    {
     "data": {
      "text/html": [
       "<div>\n",
       "<style scoped>\n",
       "    .dataframe tbody tr th:only-of-type {\n",
       "        vertical-align: middle;\n",
       "    }\n",
       "\n",
       "    .dataframe tbody tr th {\n",
       "        vertical-align: top;\n",
       "    }\n",
       "\n",
       "    .dataframe thead th {\n",
       "        text-align: right;\n",
       "    }\n",
       "</style>\n",
       "<table border=\"1\" class=\"dataframe\">\n",
       "  <thead>\n",
       "    <tr style=\"text-align: right;\">\n",
       "      <th></th>\n",
       "      <th>PRE4</th>\n",
       "      <th>PRE5</th>\n",
       "      <th>PRE14</th>\n",
       "      <th>AGE</th>\n",
       "      <th>Risk1Yr</th>\n",
       "    </tr>\n",
       "  </thead>\n",
       "  <tbody>\n",
       "    <tr>\n",
       "      <th>0</th>\n",
       "      <td>2.88</td>\n",
       "      <td>2.16</td>\n",
       "      <td>14</td>\n",
       "      <td>60</td>\n",
       "      <td>1</td>\n",
       "    </tr>\n",
       "    <tr>\n",
       "      <th>1</th>\n",
       "      <td>3.40</td>\n",
       "      <td>1.88</td>\n",
       "      <td>12</td>\n",
       "      <td>51</td>\n",
       "      <td>1</td>\n",
       "    </tr>\n",
       "    <tr>\n",
       "      <th>2</th>\n",
       "      <td>2.76</td>\n",
       "      <td>2.08</td>\n",
       "      <td>11</td>\n",
       "      <td>59</td>\n",
       "      <td>1</td>\n",
       "    </tr>\n",
       "    <tr>\n",
       "      <th>3</th>\n",
       "      <td>3.68</td>\n",
       "      <td>3.04</td>\n",
       "      <td>11</td>\n",
       "      <td>54</td>\n",
       "      <td>1</td>\n",
       "    </tr>\n",
       "    <tr>\n",
       "      <th>4</th>\n",
       "      <td>2.44</td>\n",
       "      <td>0.96</td>\n",
       "      <td>11</td>\n",
       "      <td>73</td>\n",
       "      <td>0</td>\n",
       "    </tr>\n",
       "  </tbody>\n",
       "</table>\n",
       "</div>"
      ],
      "text/plain": [
       "   PRE4  PRE5 PRE14  AGE Risk1Yr\n",
       "0  2.88  2.16    14   60       1\n",
       "1  3.40  1.88    12   51       1\n",
       "2  2.76  2.08    11   59       1\n",
       "3  3.68  3.04    11   54       1\n",
       "4  2.44  0.96    11   73       0"
      ]
     },
     "execution_count": 30,
     "metadata": {},
     "output_type": "execute_result"
    }
   ],
   "source": [
    "clean_df['PRE14'] = np.where(clean_df['PRE14'] == 'OC11', '11', clean_df['PRE14'] )\n",
    "clean_df['PRE14'] = np.where(clean_df['PRE14'] == 'OC12', '12', clean_df['PRE14'] )\n",
    "clean_df['PRE14'] = np.where(clean_df['PRE14'] == 'OC13', '13', clean_df['PRE14'] )\n",
    "clean_df['PRE14'] = np.where(clean_df['PRE14'] == 'OC14', '14', clean_df['PRE14'] )\n",
    "clean_df['Risk1Yr'] = np.where(clean_df['Risk1Yr'] == 'T', '0', clean_df['Risk1Yr'] )\n",
    "clean_df['Risk1Yr'] = np.where(clean_df['Risk1Yr'] == 'F', '1', clean_df['Risk1Yr'] )\n",
    "clean_df.head()"
   ]
  },
  {
   "cell_type": "code",
   "execution_count": 31,
   "id": "2613db35",
   "metadata": {},
   "outputs": [],
   "source": [
    "clean_df['PRE14'] = clean_df['PRE14'].astype(int)"
   ]
  },
  {
   "cell_type": "code",
   "execution_count": 32,
   "id": "0b6b9e82",
   "metadata": {},
   "outputs": [
    {
     "name": "stderr",
     "output_type": "stream",
     "text": [
      "/Users/serenabaker/opt/anaconda3/envs/PythonAdv/lib/python3.6/site-packages/pandas/core/frame.py:4308: SettingWithCopyWarning: \n",
      "A value is trying to be set on a copy of a slice from a DataFrame\n",
      "\n",
      "See the caveats in the documentation: https://pandas.pydata.org/pandas-docs/stable/user_guide/indexing.html#returning-a-view-versus-a-copy\n",
      "  errors=errors,\n"
     ]
    },
    {
     "data": {
      "text/html": [
       "<div>\n",
       "<style scoped>\n",
       "    .dataframe tbody tr th:only-of-type {\n",
       "        vertical-align: middle;\n",
       "    }\n",
       "\n",
       "    .dataframe tbody tr th {\n",
       "        vertical-align: top;\n",
       "    }\n",
       "\n",
       "    .dataframe thead th {\n",
       "        text-align: right;\n",
       "    }\n",
       "</style>\n",
       "<table border=\"1\" class=\"dataframe\">\n",
       "  <thead>\n",
       "    <tr style=\"text-align: right;\">\n",
       "      <th></th>\n",
       "      <th>FVC</th>\n",
       "      <th>FEV</th>\n",
       "      <th>TumorSize</th>\n",
       "      <th>Age</th>\n",
       "    </tr>\n",
       "  </thead>\n",
       "  <tbody>\n",
       "    <tr>\n",
       "      <th>0</th>\n",
       "      <td>2.88</td>\n",
       "      <td>2.16</td>\n",
       "      <td>14</td>\n",
       "      <td>60</td>\n",
       "    </tr>\n",
       "    <tr>\n",
       "      <th>1</th>\n",
       "      <td>3.40</td>\n",
       "      <td>1.88</td>\n",
       "      <td>12</td>\n",
       "      <td>51</td>\n",
       "    </tr>\n",
       "    <tr>\n",
       "      <th>2</th>\n",
       "      <td>2.76</td>\n",
       "      <td>2.08</td>\n",
       "      <td>11</td>\n",
       "      <td>59</td>\n",
       "    </tr>\n",
       "    <tr>\n",
       "      <th>3</th>\n",
       "      <td>3.68</td>\n",
       "      <td>3.04</td>\n",
       "      <td>11</td>\n",
       "      <td>54</td>\n",
       "    </tr>\n",
       "    <tr>\n",
       "      <th>5</th>\n",
       "      <td>2.48</td>\n",
       "      <td>1.88</td>\n",
       "      <td>11</td>\n",
       "      <td>51</td>\n",
       "    </tr>\n",
       "  </tbody>\n",
       "</table>\n",
       "</div>"
      ],
      "text/plain": [
       "    FVC   FEV  TumorSize  Age\n",
       "0  2.88  2.16         14   60\n",
       "1  3.40  1.88         12   51\n",
       "2  2.76  2.08         11   59\n",
       "3  3.68  3.04         11   54\n",
       "5  2.48  1.88         11   51"
      ]
     },
     "execution_count": 32,
     "metadata": {},
     "output_type": "execute_result"
    }
   ],
   "source": [
    "survived_df = clean_df[clean_df[\"Risk1Yr\"] == '1']\n",
    "survived_df.rename(columns={\"PRE4\": \"FVC\", \"PRE5\": \"FEV\",\n",
    "                  \"PRE14\": \"TumorSize\", \"AGE\": \"Age\"}, inplace=True)\n",
    "survived_df = survived_df.drop(\"Risk1Yr\", axis=1)\n",
    "survived_df.head()"
   ]
  },
  {
   "cell_type": "code",
   "execution_count": 33,
   "id": "d596a0c9",
   "metadata": {},
   "outputs": [
    {
     "name": "stdout",
     "output_type": "stream",
     "text": [
      "Survivors\n"
     ]
    },
    {
     "data": {
      "text/html": [
       "<div>\n",
       "<style scoped>\n",
       "    .dataframe tbody tr th:only-of-type {\n",
       "        vertical-align: middle;\n",
       "    }\n",
       "\n",
       "    .dataframe tbody tr th {\n",
       "        vertical-align: top;\n",
       "    }\n",
       "\n",
       "    .dataframe thead th {\n",
       "        text-align: right;\n",
       "    }\n",
       "</style>\n",
       "<table border=\"1\" class=\"dataframe\">\n",
       "  <thead>\n",
       "    <tr style=\"text-align: right;\">\n",
       "      <th></th>\n",
       "      <th>FVC</th>\n",
       "      <th>FEV</th>\n",
       "      <th>TumorSize</th>\n",
       "      <th>Age</th>\n",
       "    </tr>\n",
       "  </thead>\n",
       "  <tbody>\n",
       "    <tr>\n",
       "      <th>mean</th>\n",
       "      <td>3.298525</td>\n",
       "      <td>4.779375</td>\n",
       "      <td>11.685</td>\n",
       "      <td>62.3925</td>\n",
       "    </tr>\n",
       "  </tbody>\n",
       "</table>\n",
       "</div>"
      ],
      "text/plain": [
       "           FVC       FEV  TumorSize      Age\n",
       "mean  3.298525  4.779375     11.685  62.3925"
      ]
     },
     "execution_count": 33,
     "metadata": {},
     "output_type": "execute_result"
    }
   ],
   "source": [
    "print(\"Survivors\")\n",
    "survived_df.describe(include='all').loc[['mean']]"
   ]
  },
  {
   "cell_type": "code",
   "execution_count": 34,
   "id": "b7a7d589",
   "metadata": {},
   "outputs": [
    {
     "name": "stdout",
     "output_type": "stream",
     "text": [
      "Non-Survivors\n"
     ]
    },
    {
     "name": "stderr",
     "output_type": "stream",
     "text": [
      "/Users/serenabaker/opt/anaconda3/envs/PythonAdv/lib/python3.6/site-packages/pandas/core/frame.py:4308: SettingWithCopyWarning: \n",
      "A value is trying to be set on a copy of a slice from a DataFrame\n",
      "\n",
      "See the caveats in the documentation: https://pandas.pydata.org/pandas-docs/stable/user_guide/indexing.html#returning-a-view-versus-a-copy\n",
      "  errors=errors,\n"
     ]
    },
    {
     "data": {
      "text/html": [
       "<div>\n",
       "<style scoped>\n",
       "    .dataframe tbody tr th:only-of-type {\n",
       "        vertical-align: middle;\n",
       "    }\n",
       "\n",
       "    .dataframe tbody tr th {\n",
       "        vertical-align: top;\n",
       "    }\n",
       "\n",
       "    .dataframe thead th {\n",
       "        text-align: right;\n",
       "    }\n",
       "</style>\n",
       "<table border=\"1\" class=\"dataframe\">\n",
       "  <thead>\n",
       "    <tr style=\"text-align: right;\">\n",
       "      <th></th>\n",
       "      <th>FVC</th>\n",
       "      <th>FEV</th>\n",
       "      <th>TumorSize</th>\n",
       "      <th>Age</th>\n",
       "    </tr>\n",
       "  </thead>\n",
       "  <tbody>\n",
       "    <tr>\n",
       "      <th>mean</th>\n",
       "      <td>3.185143</td>\n",
       "      <td>3.364857</td>\n",
       "      <td>12.028571</td>\n",
       "      <td>63.342857</td>\n",
       "    </tr>\n",
       "  </tbody>\n",
       "</table>\n",
       "</div>"
      ],
      "text/plain": [
       "           FVC       FEV  TumorSize        Age\n",
       "mean  3.185143  3.364857  12.028571  63.342857"
      ]
     },
     "execution_count": 34,
     "metadata": {},
     "output_type": "execute_result"
    }
   ],
   "source": [
    "notSurvived_df = clean_df[clean_df[\"Risk1Yr\"] == '0']\n",
    "notSurvived_df.rename(columns={\"PRE4\": \"FVC\", \"PRE5\": \"FEV\",\n",
    "                  \"PRE14\": \"TumorSize\", \"AGE\": \"Age\"}, inplace=True)\n",
    "notSurvived_df = notSurvived_df.drop(\"Risk1Yr\", axis=1)\n",
    "print(\"Non-Survivors\")\n",
    "notSurvived_df.describe(include='all').loc[['mean']]"
   ]
  }
 ],
 "metadata": {
  "kernelspec": {
   "display_name": "Python 3",
   "language": "python",
   "name": "python3"
  },
  "language_info": {
   "codemirror_mode": {
    "name": "ipython",
    "version": 3
   },
   "file_extension": ".py",
   "mimetype": "text/x-python",
   "name": "python",
   "nbconvert_exporter": "python",
   "pygments_lexer": "ipython3",
   "version": "3.6.13"
  }
 },
 "nbformat": 4,
 "nbformat_minor": 5
}
